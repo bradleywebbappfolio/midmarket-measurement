{
 "cells": [
  {
   "cell_type": "code",
   "execution_count": 1,
   "metadata": {
    "collapsed": true
   },
   "outputs": [],
   "source": [
    "import pandas as pd\n",
    "import numpy as np\n",
    "from sklearn.linear_model import LinearRegression, LogisticRegression\n",
    "from sklearn.neighbors import KNeighborsClassifier\n",
    "from sklearn.preprocessing import normalize\n",
    "import scipy.stats\n"
   ]
  },
  {
   "cell_type": "code",
   "execution_count": 2,
   "outputs": [],
   "source": [
    "board_file = '/Users/bradley.webb/Desktop/mid_market_measurement/data/turn_board/maintenance_turns_visitors_04-20-21.csv'\n",
    "details_file = '/Users/bradley.webb/Desktop/mid_market_measurement/data/turn_board/maintenance_turns_details_visitors_04-20-21.csv'\n",
    "user_file = '/Users/bradley.webb/Desktop/mid_market_measurement/data/turn_board/turn_users_04-20-21.csv'\n",
    "experiment_group_file = '/Users/bradley.webb/Desktop/mid_market_measurement/data/turn_board/experiment_group_assignment.csv'"
   ],
   "metadata": {
    "collapsed": false,
    "pycharm": {
     "name": "#%%\n"
    }
   }
  },
  {
   "cell_type": "code",
   "execution_count": 3,
   "outputs": [],
   "source": [
    "df_board = pd.read_csv(board_file)\n",
    "df_details = pd.read_csv(details_file)\n",
    "df_users = pd.read_csv(user_file)\n",
    "df_experiment = pd.read_csv(experiment_group_file)"
   ],
   "metadata": {
    "collapsed": false,
    "pycharm": {
     "name": "#%%\n"
    }
   }
  },
  {
   "cell_type": "code",
   "execution_count": 4,
   "outputs": [
    {
     "data": {
      "text/plain": "    ID       VHOST                           EMAIL  \\\n0  157  fcrealtors        krobinson@fcrealtors.com   \n1   19      kading      karie@kadingproperties.com   \n2   21      kading    heather@kadingproperties.com   \n3   23      kading  susanpfeilconsulting@gmail.com   \n4   25      kading    lindsey@kadingproperties.com   \n\n                 UUID_PERMISSIONS_TABLE                       UUID_USER_TABLE  \n0  611eb331-7b17-11eb-beca-12ce6fac6131  15de08c9-0ebe-11e9-aea7-b083fedec91d  \n1  a54b07bc-7b06-11eb-9c0b-0a1d416c3178  4c47600f-ebcf-11ea-a8d4-0a5a45d3dd18  \n2  b707e47f-7b06-11eb-9c0b-0a1d416c3178  7afafa76-ebcf-11ea-a8d4-0a5a45d3dd18  \n3  a9c88b9c-7b06-11eb-9c0b-0a1d416c3178  0b93ec2e-ec6d-11ea-a8d4-0a5a45d3dd18  \n4  a177594e-7b06-11eb-9c0b-0a1d416c3178  b33b2c42-f779-11ea-a8d4-0a5a45d3dd18  ",
      "text/html": "<div>\n<style scoped>\n    .dataframe tbody tr th:only-of-type {\n        vertical-align: middle;\n    }\n\n    .dataframe tbody tr th {\n        vertical-align: top;\n    }\n\n    .dataframe thead th {\n        text-align: right;\n    }\n</style>\n<table border=\"1\" class=\"dataframe\">\n  <thead>\n    <tr style=\"text-align: right;\">\n      <th></th>\n      <th>ID</th>\n      <th>VHOST</th>\n      <th>EMAIL</th>\n      <th>UUID_PERMISSIONS_TABLE</th>\n      <th>UUID_USER_TABLE</th>\n    </tr>\n  </thead>\n  <tbody>\n    <tr>\n      <th>0</th>\n      <td>157</td>\n      <td>fcrealtors</td>\n      <td>krobinson@fcrealtors.com</td>\n      <td>611eb331-7b17-11eb-beca-12ce6fac6131</td>\n      <td>15de08c9-0ebe-11e9-aea7-b083fedec91d</td>\n    </tr>\n    <tr>\n      <th>1</th>\n      <td>19</td>\n      <td>kading</td>\n      <td>karie@kadingproperties.com</td>\n      <td>a54b07bc-7b06-11eb-9c0b-0a1d416c3178</td>\n      <td>4c47600f-ebcf-11ea-a8d4-0a5a45d3dd18</td>\n    </tr>\n    <tr>\n      <th>2</th>\n      <td>21</td>\n      <td>kading</td>\n      <td>heather@kadingproperties.com</td>\n      <td>b707e47f-7b06-11eb-9c0b-0a1d416c3178</td>\n      <td>7afafa76-ebcf-11ea-a8d4-0a5a45d3dd18</td>\n    </tr>\n    <tr>\n      <th>3</th>\n      <td>23</td>\n      <td>kading</td>\n      <td>susanpfeilconsulting@gmail.com</td>\n      <td>a9c88b9c-7b06-11eb-9c0b-0a1d416c3178</td>\n      <td>0b93ec2e-ec6d-11ea-a8d4-0a5a45d3dd18</td>\n    </tr>\n    <tr>\n      <th>4</th>\n      <td>25</td>\n      <td>kading</td>\n      <td>lindsey@kadingproperties.com</td>\n      <td>a177594e-7b06-11eb-9c0b-0a1d416c3178</td>\n      <td>b33b2c42-f779-11ea-a8d4-0a5a45d3dd18</td>\n    </tr>\n  </tbody>\n</table>\n</div>"
     },
     "execution_count": 4,
     "metadata": {},
     "output_type": "execute_result"
    }
   ],
   "source": [
    "df_users.head()"
   ],
   "metadata": {
    "collapsed": false,
    "pycharm": {
     "name": "#%%\n"
    }
   }
  },
  {
   "cell_type": "code",
   "execution_count": 7,
   "outputs": [
    {
     "data": {
      "text/plain": "Index(['Visitor ID', 'Page Views for Maintenance > Unit Turn Details',\n       'Days Active for Maintenance > Unit Turn Details',\n       'Time On Page (minutes) for Maintenance > Unit Turn Details', 'name',\n       'email'],\n      dtype='object')"
     },
     "execution_count": 7,
     "metadata": {},
     "output_type": "execute_result"
    }
   ],
   "source": [
    "df_details.columns"
   ],
   "metadata": {
    "collapsed": false,
    "pycharm": {
     "name": "#%%\n"
    }
   }
  },
  {
   "cell_type": "code",
   "execution_count": 19,
   "outputs": [
    {
     "data": {
      "text/plain": "0                sustainrealty-jrossi@sustainrealty.com\n1                           wangard-mdomres@wangard.com\n2           collinspropmgmt-ccollins@collinspmgroup.com\n3                    regencypm-npatino@regencyprops.com\n4                   kading-myranda@kadingproperties.com\n5             viewpointequitiesinc-maria@vpequities.com\n6                        rentahome-sam@gsorentahome.com\n7                         rec-reception@rec-rentals.com\n8              atlasmanagementor-jakeg@atlasmgmtpdx.com\n9               phillipsrealestate-lsnee@phillipsre.com\n10                    augusta-maria@augusta-abilene.com\n11              laureatetld-jamiebelitz@laureateltd.com\n12             skypm-trevor@bgskypropertymanagement.com\n13              realpmredding-shastaview@rpmredding.com\n14    butlerpropertycompany-andrew@butlerpropertycom...\n15                     schwalb-jamesd@schwalbrealty.com\n16                    northpointe-ashley.nppm@gmail.com\n17                         meccamgmt-lsuter@meccabg.com\n18                 realtyworks-audrey@realtyworksne.com\n19                     investwest-alinstead@iwminfo.com\n20                  bertsch-monterrosa.melvin@yahoo.com\n21                 sgvmanagement-mark@sgvmanagement.com\n22                    cblegacy-assistantpm@cblegacy.com\n23                 cblegacy-pmreceptionist@cblegacy.com\n24                    bella-villasuptown@bellaasset.com\nName: VHOST_EMAIL, dtype: object"
     },
     "execution_count": 19,
     "metadata": {},
     "output_type": "execute_result"
    }
   ],
   "source": [
    "# df_details['email'].unique().shape[0]\n",
    "# df_details[['name', 'email']].value_counts()\n",
    "# df_details['VHOST_EMAIL'] = df_details.apply(lambda row: row['name'] + '-' + row['email'], axis=1)\n",
    "# int_df = pd.merge(d1, d2, how ='inner', on =['A', 'B'])\n",
    "# df_users.join(df_details.set_index('email'), on='EMAIL', rsuffix='_details')\n",
    "# df_concat = pd.concat([pd.merge(df_users, df_details, how='inner', left_on=['UUID_USER_TABLE'], right_on=['VISITOR_ID']),\n",
    "# pd.merge(df_users, df_details, how='inner', left_on=['UUID_USER_TABLE'], right_on=['Visitor ID'])\n",
    "# pd.merge(df_users, df_details, how='inner', left_on=['EMAIL'], right_on=['email'])])\n"
   ],
   "metadata": {
    "collapsed": false,
    "pycharm": {
     "name": "#%%\n"
    }
   }
  },
  {
   "cell_type": "code",
   "execution_count": 44,
   "outputs": [
    {
     "data": {
      "text/plain": "array(['control', 'DIY-onboarding', 'no-onboarding'], dtype=object)"
     },
     "execution_count": 44,
     "metadata": {},
     "output_type": "execute_result"
    }
   ],
   "source": [
    "df_details_users = pd.merge(df_users, df_details, how='inner', left_on=['EMAIL', 'VHOST'], right_on=['email', 'name'])\n",
    "df_details_users = pd.merge(df_details_users, df_experiment, how='left', left_on=['VHOST'], right_on=['VHOST'])\n",
    "df_details_users['GROUP'].fillna(value='control', inplace=True)\n",
    "df_details_users['GROUP'].unique()"
   ],
   "metadata": {
    "collapsed": false,
    "pycharm": {
     "name": "#%%\n"
    }
   }
  },
  {
   "cell_type": "code",
   "execution_count": 50,
   "outputs": [
    {
     "data": {
      "text/plain": "    ID       VHOST                           EMAIL  \\\n0  157  fcrealtors        krobinson@fcrealtors.com   \n1   21      kading    heather@kadingproperties.com   \n2   23      kading  susanpfeilconsulting@gmail.com   \n3   25      kading    lindsey@kadingproperties.com   \n4   26      kading      tyler@kadingproperties.com   \n\n                 UUID_PERMISSIONS_TABLE                       UUID_USER_TABLE  \\\n0  611eb331-7b17-11eb-beca-12ce6fac6131  15de08c9-0ebe-11e9-aea7-b083fedec91d   \n1  b707e47f-7b06-11eb-9c0b-0a1d416c3178  7afafa76-ebcf-11ea-a8d4-0a5a45d3dd18   \n2  a9c88b9c-7b06-11eb-9c0b-0a1d416c3178  0b93ec2e-ec6d-11ea-a8d4-0a5a45d3dd18   \n3  a177594e-7b06-11eb-9c0b-0a1d416c3178  b33b2c42-f779-11ea-a8d4-0a5a45d3dd18   \n4  ace79e2b-7b06-11eb-9c0b-0a1d416c3178  c3564f29-f779-11ea-a8d4-0a5a45d3dd18   \n\n                             Visitor ID  \\\n0  15de08c9-0ebe-11e9-aea7-b083fedec91d   \n1  7afafa76-ebcf-11ea-a8d4-0a5a45d3dd18   \n2  0b93ec2e-ec6d-11ea-a8d4-0a5a45d3dd18   \n3  b33b2c42-f779-11ea-a8d4-0a5a45d3dd18   \n4  c3564f29-f779-11ea-a8d4-0a5a45d3dd18   \n\n   Page Views for Maintenance > Unit Turn Details  \\\n0                                               1   \n1                                               1   \n2                                              49   \n3                                               3   \n4                                               2   \n\n   Days Active for Maintenance > Unit Turn Details  \\\n0                                                1   \n1                                                1   \n2                                                6   \n3                                                3   \n4                                                2   \n\n   Time On Page (minutes) for Maintenance > Unit Turn Details        name  \\\n0                                                  2           fcrealtors   \n1                                                  2               kading   \n2                                                 74               kading   \n3                                                  4               kading   \n4                                                  2               kading   \n\n                            email    GROUP  control  DIY-onboarding  \\\n0        krobinson@fcrealtors.com  control        1               0   \n1    heather@kadingproperties.com  control        1               0   \n2  susanpfeilconsulting@gmail.com  control        1               0   \n3    lindsey@kadingproperties.com  control        1               0   \n4      tyler@kadingproperties.com  control        1               0   \n\n   no-onboarding  control_categorical  DIY-onboarding_categorical  \\\n0              0                    1                           0   \n1              0                    1                           0   \n2              0                    1                           0   \n3              0                    1                           0   \n4              0                    1                           0   \n\n   no-onboarding_categorical  \n0                          0  \n1                          0  \n2                          0  \n3                          0  \n4                          0  ",
      "text/html": "<div>\n<style scoped>\n    .dataframe tbody tr th:only-of-type {\n        vertical-align: middle;\n    }\n\n    .dataframe tbody tr th {\n        vertical-align: top;\n    }\n\n    .dataframe thead th {\n        text-align: right;\n    }\n</style>\n<table border=\"1\" class=\"dataframe\">\n  <thead>\n    <tr style=\"text-align: right;\">\n      <th></th>\n      <th>ID</th>\n      <th>VHOST</th>\n      <th>EMAIL</th>\n      <th>UUID_PERMISSIONS_TABLE</th>\n      <th>UUID_USER_TABLE</th>\n      <th>Visitor ID</th>\n      <th>Page Views for Maintenance &gt; Unit Turn Details</th>\n      <th>Days Active for Maintenance &gt; Unit Turn Details</th>\n      <th>Time On Page (minutes) for Maintenance &gt; Unit Turn Details</th>\n      <th>name</th>\n      <th>email</th>\n      <th>GROUP</th>\n      <th>control</th>\n      <th>DIY-onboarding</th>\n      <th>no-onboarding</th>\n      <th>control_categorical</th>\n      <th>DIY-onboarding_categorical</th>\n      <th>no-onboarding_categorical</th>\n    </tr>\n  </thead>\n  <tbody>\n    <tr>\n      <th>0</th>\n      <td>157</td>\n      <td>fcrealtors</td>\n      <td>krobinson@fcrealtors.com</td>\n      <td>611eb331-7b17-11eb-beca-12ce6fac6131</td>\n      <td>15de08c9-0ebe-11e9-aea7-b083fedec91d</td>\n      <td>15de08c9-0ebe-11e9-aea7-b083fedec91d</td>\n      <td>1</td>\n      <td>1</td>\n      <td>2</td>\n      <td>fcrealtors</td>\n      <td>krobinson@fcrealtors.com</td>\n      <td>control</td>\n      <td>1</td>\n      <td>0</td>\n      <td>0</td>\n      <td>1</td>\n      <td>0</td>\n      <td>0</td>\n    </tr>\n    <tr>\n      <th>1</th>\n      <td>21</td>\n      <td>kading</td>\n      <td>heather@kadingproperties.com</td>\n      <td>b707e47f-7b06-11eb-9c0b-0a1d416c3178</td>\n      <td>7afafa76-ebcf-11ea-a8d4-0a5a45d3dd18</td>\n      <td>7afafa76-ebcf-11ea-a8d4-0a5a45d3dd18</td>\n      <td>1</td>\n      <td>1</td>\n      <td>2</td>\n      <td>kading</td>\n      <td>heather@kadingproperties.com</td>\n      <td>control</td>\n      <td>1</td>\n      <td>0</td>\n      <td>0</td>\n      <td>1</td>\n      <td>0</td>\n      <td>0</td>\n    </tr>\n    <tr>\n      <th>2</th>\n      <td>23</td>\n      <td>kading</td>\n      <td>susanpfeilconsulting@gmail.com</td>\n      <td>a9c88b9c-7b06-11eb-9c0b-0a1d416c3178</td>\n      <td>0b93ec2e-ec6d-11ea-a8d4-0a5a45d3dd18</td>\n      <td>0b93ec2e-ec6d-11ea-a8d4-0a5a45d3dd18</td>\n      <td>49</td>\n      <td>6</td>\n      <td>74</td>\n      <td>kading</td>\n      <td>susanpfeilconsulting@gmail.com</td>\n      <td>control</td>\n      <td>1</td>\n      <td>0</td>\n      <td>0</td>\n      <td>1</td>\n      <td>0</td>\n      <td>0</td>\n    </tr>\n    <tr>\n      <th>3</th>\n      <td>25</td>\n      <td>kading</td>\n      <td>lindsey@kadingproperties.com</td>\n      <td>a177594e-7b06-11eb-9c0b-0a1d416c3178</td>\n      <td>b33b2c42-f779-11ea-a8d4-0a5a45d3dd18</td>\n      <td>b33b2c42-f779-11ea-a8d4-0a5a45d3dd18</td>\n      <td>3</td>\n      <td>3</td>\n      <td>4</td>\n      <td>kading</td>\n      <td>lindsey@kadingproperties.com</td>\n      <td>control</td>\n      <td>1</td>\n      <td>0</td>\n      <td>0</td>\n      <td>1</td>\n      <td>0</td>\n      <td>0</td>\n    </tr>\n    <tr>\n      <th>4</th>\n      <td>26</td>\n      <td>kading</td>\n      <td>tyler@kadingproperties.com</td>\n      <td>ace79e2b-7b06-11eb-9c0b-0a1d416c3178</td>\n      <td>c3564f29-f779-11ea-a8d4-0a5a45d3dd18</td>\n      <td>c3564f29-f779-11ea-a8d4-0a5a45d3dd18</td>\n      <td>2</td>\n      <td>2</td>\n      <td>2</td>\n      <td>kading</td>\n      <td>tyler@kadingproperties.com</td>\n      <td>control</td>\n      <td>1</td>\n      <td>0</td>\n      <td>0</td>\n      <td>1</td>\n      <td>0</td>\n      <td>0</td>\n    </tr>\n  </tbody>\n</table>\n</div>"
     },
     "execution_count": 50,
     "metadata": {},
     "output_type": "execute_result"
    }
   ],
   "source": [
    "for val in df_details_users['GROUP'].unique():\n",
    "    df_details_users[val+'_categorical'] = df_details_users['GROUP'].apply(lambda row: 1 if row == val else 0)\n",
    "df_details_users.head()\n",
    "# df[df.groupby(\"sym\")[\"sym\"].transform('size') == 2]\n",
    "# df_users[df_users.groupby('UUID')['UUID'].transform('size') > 1].shape[0]"
   ],
   "metadata": {
    "collapsed": false,
    "pycharm": {
     "name": "#%%\n"
    }
   }
  },
  {
   "cell_type": "code",
   "execution_count": 60,
   "outputs": [],
   "source": [
    "df_details_users.rename(columns={'Page Views for Maintenance > Unit Turn Details':'PAGE_VIEWS',\\\n",
    "                         'Days Active for Maintenance > Unit Turn Details': 'DAYS_ACTIVE',\\\n",
    "                         'Time On Page (minutes) for Maintenance > Unit Turn Details': 'TIME_SPENT'\n",
    "                         }, inplace=True)"
   ],
   "metadata": {
    "collapsed": false,
    "pycharm": {
     "name": "#%%\n"
    }
   }
  },
  {
   "cell_type": "code",
   "execution_count": 88,
   "outputs": [],
   "source": [
    "x = df_details_users[['TIME_SPENT']].to_numpy()\n",
    "y = df_details_users[['control_categorical']].to_numpy()"
   ],
   "metadata": {
    "collapsed": false,
    "pycharm": {
     "name": "#%%\n"
    }
   }
  },
  {
   "cell_type": "code",
   "execution_count": 91,
   "outputs": [
    {
     "name": "stdout",
     "output_type": "stream",
     "text": [
      "               PAGE_VIEWS                              TIME_SPENT             \\\n",
      "                    count       mean median        std      count       mean   \n",
      "GROUP                                                                          \n",
      "DIY-onboarding         43  16.627907    3.0  42.976751         43  26.372093   \n",
      "control              1533  16.091977    4.0  42.268553       1533  26.200913   \n",
      "no-onboarding          78  42.692308    5.5  94.785925         78  56.923077   \n",
      "\n",
      "                                   \n",
      "               median         std  \n",
      "GROUP                              \n",
      "DIY-onboarding      5   56.944009  \n",
      "control             6   84.803082  \n",
      "no-onboarding       8  115.995048  \n",
      "coefficient of determination 0.0036098906987819257\n"
     ]
    }
   ],
   "source": [
    "model = LinearRegression().fit(x,y)\n",
    "r_sq = model.score(x,y)\n",
    "pd.set_option('display.max_columns', 500)\n",
    "print(df_details_users[['GROUP','PAGE_VIEWS', 'TIME_SPENT']].groupby('GROUP').agg(['count', 'mean', 'median', 'std']))\n",
    "print('coefficient of determination', r_sq)"
   ],
   "metadata": {
    "collapsed": false,
    "pycharm": {
     "name": "#%%\n"
    }
   }
  },
  {
   "cell_type": "code",
   "execution_count": 114,
   "outputs": [
    {
     "name": "stdout",
     "output_type": "stream",
     "text": [
      "0.6293172895047672 1.959963984540054 False\n"
     ]
    }
   ],
   "source": [
    "x = df_details_users[df_details_users['GROUP'] == 'no-onboarding'].mean()['PAGE_VIEWS']\n",
    "mu = df_details_users[df_details_users['GROUP'] == 'control'].mean()['PAGE_VIEWS']\n",
    "std = df_details_users[df_details_users['GROUP'] == 'control'].std()['PAGE_VIEWS']\n",
    "z = (x - mu)/std\n",
    "z\n",
    "\n",
    "crit_val = scipy.stats.norm.ppf(1-.05/2)\n",
    "print(z, crit_val, z > crit_val)"
   ],
   "metadata": {
    "collapsed": false,
    "pycharm": {
     "name": "#%%\n"
    }
   }
  },
  {
   "cell_type": "code",
   "execution_count": null,
   "outputs": [],
   "source": [],
   "metadata": {
    "collapsed": false,
    "pycharm": {
     "name": "#%%\n"
    }
   }
  }
 ],
 "metadata": {
  "kernelspec": {
   "display_name": "Python 3",
   "language": "python",
   "name": "python3"
  },
  "language_info": {
   "codemirror_mode": {
    "name": "ipython",
    "version": 2
   },
   "file_extension": ".py",
   "mimetype": "text/x-python",
   "name": "python",
   "nbconvert_exporter": "python",
   "pygments_lexer": "ipython2",
   "version": "2.7.6"
  }
 },
 "nbformat": 4,
 "nbformat_minor": 0
}