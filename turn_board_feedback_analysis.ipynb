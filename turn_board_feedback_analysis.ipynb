{
 "cells": [
  {
   "cell_type": "code",
   "execution_count": 44,
   "metadata": {
    "collapsed": true
   },
   "outputs": [
    {
     "name": "stderr",
     "output_type": "stream",
     "text": [
      "[nltk_data] Downloading package stopwords to\n",
      "[nltk_data]     /Users/bradley.webb/nltk_data...\n",
      "[nltk_data]   Unzipping corpora/stopwords.zip.\n"
     ]
    }
   ],
   "source": [
    "import pandas as pd\n",
    "import nltk\n",
    "nltk.download('stopwords')\n",
    "from nltk.corpus import stopwords\n",
    "\n",
    "# import numpy as np\n",
    "# import matplotlib.pyplot as plt\n",
    "# from wordcloud import WordCloud"
   ]
  },
  {
   "cell_type": "code",
   "execution_count": 2,
   "outputs": [],
   "source": [
    "infile = '~/Desktop/mid_market_measurement/data/turn_board/turn_board_feedback_verbatims.csv'"
   ],
   "metadata": {
    "collapsed": false,
    "pycharm": {
     "name": "#%%\n"
    }
   }
  },
  {
   "cell_type": "code",
   "execution_count": 3,
   "outputs": [],
   "source": [
    "df = pd.read_csv(infile)"
   ],
   "metadata": {
    "collapsed": false,
    "pycharm": {
     "name": "#%%\n"
    }
   }
  },
  {
   "cell_type": "code",
   "execution_count": 5,
   "outputs": [],
   "source": [
    "df['feedback_time'] = pd.to_datetime(df['feedback_time'])"
   ],
   "metadata": {
    "collapsed": false,
    "pycharm": {
     "name": "#%%\n"
    }
   }
  },
  {
   "cell_type": "code",
   "execution_count": 13,
   "outputs": [
    {
     "data": {
      "text/plain": "0.21292775665399238"
     },
     "execution_count": 13,
     "metadata": {},
     "output_type": "execute_result"
    }
   ],
   "source": [
    "df[df['rating'] == 5].shape[0] / df.shape[0]"
   ],
   "metadata": {
    "collapsed": false,
    "pycharm": {
     "name": "#%%\n"
    }
   }
  },
  {
   "cell_type": "code",
   "execution_count": 48,
   "outputs": [],
   "source": [
    "stop_words = stopwords.words('english')"
   ],
   "metadata": {
    "collapsed": false,
    "pycharm": {
     "name": "#%%\n"
    }
   }
  },
  {
   "cell_type": "code",
   "execution_count": 50,
   "outputs": [
    {
     "data": {
      "text/plain": "True"
     },
     "execution_count": 50,
     "metadata": {},
     "output_type": "execute_result"
    }
   ],
   "source": [
    "'the' in stop_words"
   ],
   "metadata": {
    "collapsed": false,
    "pycharm": {
     "name": "#%%\n"
    }
   }
  },
  {
   "cell_type": "code",
   "execution_count": 72,
   "outputs": [
    {
     "data": {
      "text/plain": "['I',\n 'turn',\n 'unit',\n 'work',\n 'would',\n 'Unit',\n 'Turn',\n 'order',\n 'board',\n 'able',\n 'see',\n '-',\n 'units',\n 'move',\n 'need',\n 'love',\n 'option',\n 'like',\n 'This',\n 'We',\n 'keys',\n 'It',\n 'new',\n 'make',\n 'create',\n 'show',\n 'know',\n 'date',\n 'Would',\n 'add',\n 'useful',\n 'The',\n 'tenant',\n 'looking',\n 'property',\n 'set',\n 'one',\n 'already',\n ',',\n 'Work',\n 'completed',\n 'Category',\n 'Can',\n 'Order',\n 'orders',\n 'specific',\n 'automatically',\n 'showing',\n 'access',\n 'If',\n 'even',\n 'may',\n 'turn,',\n 'schedule',\n 'inspection',\n 'possible',\n 'way',\n 'change',\n 'Thank',\n 'allow',\n 'Please',\n 'page',\n 'vendor',\n 'board.',\n 'feature',\n 'select',\n 'main',\n 'us',\n 'also',\n 'great',\n 'could',\n 'shows',\n 'maintenance',\n 'When',\n 'category.',\n 'tenants',\n 'sort',\n 'Kyle/Brad',\n 'working',\n 'turned',\n 'creating',\n 'Thanks!',\n 'created',\n 'On',\n 'tracking',\n 'properties',\n 'think',\n 'also.',\n \"I'm\",\n 'helpful',\n 'looks',\n 'still',\n 'pull',\n 'really',\n 'many',\n 'it.',\n 'Detail',\n 'put',\n 'vendors',\n 'How',\n 'start',\n 'correct',\n 'turnover',\n 'use',\n 'column',\n 'filter',\n 'given',\n 'turns',\n 'want',\n 'onto',\n 'attach',\n 'data',\n 'sure',\n 'board,',\n 'scheduled',\n 'status',\n 'existing',\n 'space',\n 'seen',\n 'default',\n 'categories',\n 'columns',\n '\"In',\n 'unit,',\n 'easier',\n 'listed',\n 'Board',\n 'labor',\n 'place',\n 'available',\n 'options.',\n 'expand',\n '1',\n '\"',\n 'within',\n 'shortcut',\n 'process',\n 'Currently',\n 'generates',\n 'go',\n 'lease',\n 'populate',\n 'connect',\n \"what's\",\n 'this.',\n 'PDF',\n 'current',\n 'vacant',\n 'included',\n 'multiple',\n 'appears',\n '5',\n 'Add',\n 'ones',\n 'nothing',\n 'Dashboard?',\n 'using',\n 'look',\n 'From',\n 'clickable',\n 'call',\n 'first',\n 'you!',\n 'Is',\n 'cost',\n 'manually',\n 'items',\n 'enter',\n 'templates?',\n 'least',\n 'metrics',\n 'edit',\n 'Progress\"',\n 'out.',\n 'export',\n 'editable',\n 'paid,',\n 'yet.',\n 'Keep',\n 'ability',\n 'completed.',\n '.',\n 'dates',\n 'As',\n 'rent',\n 'apply',\n 'particular',\n '1.',\n 'going',\n '2.',\n 'needs',\n 'seem',\n 'time',\n 'third',\n 'button',\n 'information',\n 'far.',\n 'getting',\n 'stage',\n 'But',\n '&',\n 'party',\n 'report',\n 'Type',\n 'sorting',\n 'underutilized',\n 'preferable',\n 'amount',\n 'have.',\n 'property)',\n 'launch',\n 'First',\n 'actual',\n 'Board,',\n 'site',\n 'fantastic,',\n 'keep',\n 'attached',\n 'vacated.',\n 'Maryland.',\n 'Meadows',\n 'display',\n 'Free\"',\n 'specifically',\n 'Keeps',\n 'date\"',\n 'type',\n 'discrepancy',\n 'notate',\n 'So',\n 'team',\n \"It's\",\n 'That',\n 'parts',\n 'follow',\n 'people',\n 'A',\n 'entered',\n 'Edit',\n 'Broker',\n '?',\n 'forward',\n 'chance',\n 'expenses',\n 'maintenance,',\n 'excel',\n 'results',\n 'section',\n 'Vendor',\n 'vacating)',\n 'helpful.',\n 'schedule.',\n 'order,',\n '\"something',\n \"let's\",\n 'Appfolio?',\n 'somehow.',\n 'seamless',\n 'Address',\n 'list,',\n 'managing',\n 'Expense',\n 'progress',\n 'posted?',\n 'changes.',\n \"We'd\",\n 'feature.',\n 'Units',\n 'members?',\n 'Board!!',\n 'THE',\n 'Page',\n 'went',\n \"Vendor's\",\n 'dashboard.',\n '\"n/a\"',\n '-Instead',\n 'occupied,',\n '\"Move',\n 'better!',\n 'unit.',\n 'ahead',\n 'return,',\n 'THANK',\n 'anything.',\n 'edited',\n 'ready',\n 'number...the',\n 'organized.',\n 'Fresh',\n 'feauture',\n 'description',\n 'commercial',\n 'maybe?',\n 'value!',\n 'transition',\n 'generate',\n 'Getting',\n 'generated',\n 'started',\n 'Company',\n 'here.',\n 'lockboxes',\n 'upcoming',\n '#1',\n 'example.',\n 'Fabulous!!',\n 'category',\n 'while.',\n 'vacancies',\n 'deal',\n 'Cumberland',\n 'account',\n 'message',\n 'assign',\n 'clog',\n 'place.',\n 'sheet',\n 'GREAT',\n 'working.',\n 'suspect',\n 'do.',\n 'print',\n 'settings',\n 'Cost',\n '5)',\n 'expanded',\n 'never',\n 'partially',\n 'let',\n 'present',\n 'boards?',\n 'hours',\n 'all.',\n 'Might',\n 'archive',\n 'good',\n 'rename',\n 'but:',\n 'links,',\n 'listing?',\n 'course.',\n '2)',\n 'lockbox',\n 'assigned',\n 'returns',\n 'numbers.',\n 'without',\n 'office',\n 'Asking',\n 'At',\n 'calculated',\n 'certificate',\n 'Creates',\n 'link',\n 'forget.',\n 'moved',\n 'before,',\n 'And',\n 'added',\n 'needing',\n 'orders!',\n 'role,',\n 'purposes',\n 'not-',\n 'goes.',\n 'test',\n 'bubble',\n 'keeping',\n 'organization',\n 'notice,',\n 'utilize',\n 'self',\n '09',\n 'managers,',\n 'owner',\n 'purposes.',\n 'associated',\n 'dates.',\n '\"unit',\n 'paying',\n 'individual',\n 'YOU.',\n 'clients',\n '-When',\n 'provision',\n 'dollar',\n 'Dashboard',\n 'wrong',\n 'flexibility',\n 'Trade',\n 'Its',\n 'Easy',\n 'creates',\n '3)',\n \"I've\",\n 'properly.',\n 'notice',\n 'nice',\n 'AppFolio?',\n 'assuming',\n 'request',\n 'paint.',\n 'phase.',\n 'hit',\n 'goes',\n 'turns,',\n 'all,',\n 'inputted,',\n '(example',\n 'different',\n 'alone',\n 'carpet,',\n 'pulling.',\n 'weeks,',\n 'request,',\n 'clutter.',\n 'Thanks,',\n 'progress.',\n 'summer',\n 'totals.',\n \"can't\",\n 'dashboard',\n '(per',\n 'API',\n 'Full',\n 'tenants.',\n '3',\n 'clicked.',\n 'error',\n 'group',\n 'generally',\n 'by\"',\n 'say',\n 'viewing.',\n 'decide',\n 'vs/and',\n 'thing.',\n 'Sometimes',\n '4',\n 'report\"',\n 'names.',\n 'banner',\n 'existed.',\n 'keys,',\n \"We're\",\n 'turn.',\n 'item',\n 'Love',\n 'pertains',\n 'give',\n 'defaults?',\n 'perhaps',\n 'KEEP',\n 'tells',\n 'try',\n 'necessary',\n 'check',\n 'simplified.',\n 'future',\n 'etc.',\n 'received\"',\n 'finish,',\n 'stop',\n 'Like',\n 'optional,',\n 'track',\n 'case',\n 'task,',\n 'ticket',\n 'method',\n 'Creating',\n 'project',\n '\"cleaning\",',\n 'takes',\n 'cannot',\n 'reflect',\n 'incorrect.',\n 'service',\n 'view',\n 'beat',\n 'see.',\n 'br,',\n 'template',\n 'far',\n 'order?',\n 'leaves',\n 'seeing',\n 'there)',\n 'well',\n 'day',\n 'Half',\n 'click',\n 'work!',\n 'mark',\n 'moving',\n 'again\".',\n 'reference',\n 'There',\n 'number',\n 'must',\n 'done',\n 'separate',\n 'quicker.',\n 'instead',\n 'impress!',\n 'approved',\n 'trouble',\n 'Vendor?',\n 'accepts',\n 'multiple,',\n 'end',\n 'invoices',\n 'endpoint',\n 'Admin',\n 'system',\n 'features,',\n 'life',\n '4)',\n 'access?',\n 'visible',\n 'doesnt',\n 'requirement',\n 'view.',\n 'everything',\n 'detail\"',\n 'whole',\n 'now.',\n 'info.',\n '3/16/20.',\n 'moves',\n 'paint,',\n 'hard',\n 'great,',\n 'mine',\n 'satisfy',\n 'helpful!',\n 'following',\n 'missed',\n 'done,',\n 'but,',\n 'inspection-',\n 'late',\n 'purchase',\n 'used',\n 'Excel.',\n 'Turn.',\n 'Yes,',\n 'do?',\n 'Columns',\n 'asked',\n 'unpaid.',\n 'REALLY',\n 'etc',\n 'arrow',\n 'get',\n 'date.',\n 'rental',\n '\"sort',\n 'WORK!',\n 'property,',\n '1010first',\n 'us.',\n 'Property',\n '1)',\n 'posted',\n 'process.',\n 'bottom',\n 'top',\n 'training',\n 'state',\n '2br',\n 'detail',\n 'true',\n '\"Unit',\n 'fully',\n 'sync',\n 'saying',\n 'phases',\n 'Thanks',\n 'several.',\n 'you.',\n '2',\n 'full',\n '3.',\n 'name.',\n 'date,',\n 'vacated',\n 'Did',\n 'Make',\n 'easy',\n 'hold',\n 'Rent',\n 'Highland',\n 'walk',\n 'starting',\n 'Report?',\n 'bunch',\n 'test.',\n 'thinking',\n 'Bd/Ba',\n 'area',\n 'menu',\n 'inspection.',\n 'turnovers.',\n 'cleaning,',\n '\"Lead',\n 'tool.',\n 'avi@builtbybhc.com',\n 'accident,',\n 'organized',\n 'Report.',\n 'links',\n 'filters',\n 'connecting',\n 'dates,',\n 'practice',\n 'complete',\n 'with,',\n 'hoping',\n '\"vacant\".',\n 'to.',\n 'form,',\n 'materials.',\n 'refreshing',\n 'effectively',\n 'not.',\n 'WO',\n 'tenant.',\n 'rent-ready',\n 'well-',\n 'Maybe',\n 'totals',\n 'useful.',\n 'established',\n '(all',\n 'additional',\n 'top.',\n 'control',\n 'active',\n 'Board?',\n 'For',\n 'jumbled',\n 'makes',\n 'columns:',\n 'hovering',\n '\"lead',\n 'now,',\n 'Also',\n 'product',\n 'Only',\n 'empty.',\n 'customization',\n 'build',\n 'occupied',\n 'currently',\n 'little',\n 'calendar?',\n 'arriving',\n 'program',\n 'right',\n 'Why',\n 'february',\n 'old',\n 'HIDDEN',\n '3br',\n 'sometimes',\n 'UP',\n 'assigned.',\n 'before.',\n 'fill',\n 'turns.']"
     },
     "execution_count": 72,
     "metadata": {},
     "output_type": "execute_result"
    }
   ],
   "source": [
    "df[\n",
    "    (~df['comment'].str.contains('Requested Metric')) &\n",
    "    (df['rating'] == 5)\n",
    "]['comment'].str.split(expand=True).stack().apply(lambda word: word if word not in stop_words else None).value_counts().index.tolist()\n",
    "    # .tolist()\n",
    "    # .value_counts().index.tolist().apply(lambda word: print(word, type(word)) if word not in stop_words else None)"
   ],
   "metadata": {
    "collapsed": false,
    "pycharm": {
     "name": "#%%\n"
    }
   }
  },
  {
   "cell_type": "code",
   "execution_count": null,
   "outputs": [],
   "source": [],
   "metadata": {
    "collapsed": false,
    "pycharm": {
     "name": "#%%\n"
    }
   }
  }
 ],
 "metadata": {
  "kernelspec": {
   "display_name": "Python 3",
   "language": "python",
   "name": "python3"
  },
  "language_info": {
   "codemirror_mode": {
    "name": "ipython",
    "version": 2
   },
   "file_extension": ".py",
   "mimetype": "text/x-python",
   "name": "python",
   "nbconvert_exporter": "python",
   "pygments_lexer": "ipython2",
   "version": "2.7.6"
  }
 },
 "nbformat": 4,
 "nbformat_minor": 0
}