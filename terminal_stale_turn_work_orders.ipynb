{
 "cells": [
  {
   "cell_type": "code",
   "execution_count": 104,
   "metadata": {
    "collapsed": true
   },
   "outputs": [],
   "source": [
    "import pandas as pd"
   ]
  },
  {
   "cell_type": "code",
   "execution_count": 2,
   "outputs": [],
   "source": [
    "infile = '~/Desktop/mid_market_measurement/data/turn_board/unit_turn_non_terminal_stale_work_orders.csv'"
   ],
   "metadata": {
    "collapsed": false,
    "pycharm": {
     "name": "#%%\n"
    }
   }
  },
  {
   "cell_type": "code",
   "execution_count": 3,
   "outputs": [],
   "source": [
    "df = pd.read_csv(infile)"
   ],
   "metadata": {
    "collapsed": false,
    "pycharm": {
     "name": "#%%\n"
    }
   }
  },
  {
   "cell_type": "code",
   "execution_count": 4,
   "outputs": [
    {
     "data": {
      "text/plain": "Index(['VHOST', 'TURN_ID', 'SR_ID', 'WO_ID', 'STATUS_CODE', 'WO_STATUS',\n       'TERMINAL_STATUS', 'WORK_ORDER_FRESHNESS', 'CREATED_AT', 'UPDATED_AT'],\n      dtype='object')"
     },
     "execution_count": 4,
     "metadata": {},
     "output_type": "execute_result"
    }
   ],
   "source": [
    "df.columns"
   ],
   "metadata": {
    "collapsed": false,
    "pycharm": {
     "name": "#%%\n"
    }
   }
  },
  {
   "cell_type": "code",
   "execution_count": 98,
   "outputs": [],
   "source": [
    "df['CREATED_AT'] = pd.to_datetime(df['CREATED_AT'])\n",
    "df['UPDATED_AT'] = pd.to_datetime(df['UPDATED_AT'])"
   ],
   "metadata": {
    "collapsed": false,
    "pycharm": {
     "name": "#%%\n"
    }
   }
  },
  {
   "cell_type": "code",
   "execution_count": 99,
   "outputs": [],
   "source": [
    "# Get the vhosts which average >= 1 work order per unique turn\n",
    "df2 = df.groupby(by=['VHOST']).aggregate({'TURN_ID': pd.Series.nunique, 'WO_ID': 'count'}).apply(lambda row: row['WO_ID']/row['TURN_ID'], axis=1).reset_index().rename(columns={0: 'WO_TURN_RATIO'})"
   ],
   "metadata": {
    "collapsed": false,
    "pycharm": {
     "name": "#%%\n"
    }
   }
  },
  {
   "cell_type": "code",
   "execution_count": 100,
   "outputs": [],
   "source": [
    "# For the VHOSTs with >=1 work order per unique turn get the turns\n",
    "df3 = df[df['VHOST'].isin(df2[df2['WO_TURN_RATIO'] >= 1]['VHOST']) == True]"
   ],
   "metadata": {
    "collapsed": false,
    "pycharm": {
     "name": "#%%\n"
    }
   }
  },
  {
   "cell_type": "code",
   "execution_count": 109,
   "outputs": [
    {
     "data": {
      "text/plain": "                  VHOST  TURN_ID   SR_ID   WO_ID  STATUS_CODE  WO_STATUS  \\\nTERMINAL_STATUS                                                            \nNOT_TERMINAL      20702    20702   20702   20702        20702      20702   \nTERMINAL         133907   133907  133907  133907       133907     133907   \n\n                 WORK_ORDER_FRESHNESS  CREATED_AT  UPDATED_AT  \nTERMINAL_STATUS                                                \nNOT_TERMINAL                    20702       20702       20702  \nTERMINAL                            0      133907      133907  ",
      "text/html": "<div>\n<style scoped>\n    .dataframe tbody tr th:only-of-type {\n        vertical-align: middle;\n    }\n\n    .dataframe tbody tr th {\n        vertical-align: top;\n    }\n\n    .dataframe thead th {\n        text-align: right;\n    }\n</style>\n<table border=\"1\" class=\"dataframe\">\n  <thead>\n    <tr style=\"text-align: right;\">\n      <th></th>\n      <th>VHOST</th>\n      <th>TURN_ID</th>\n      <th>SR_ID</th>\n      <th>WO_ID</th>\n      <th>STATUS_CODE</th>\n      <th>WO_STATUS</th>\n      <th>WORK_ORDER_FRESHNESS</th>\n      <th>CREATED_AT</th>\n      <th>UPDATED_AT</th>\n    </tr>\n    <tr>\n      <th>TERMINAL_STATUS</th>\n      <th></th>\n      <th></th>\n      <th></th>\n      <th></th>\n      <th></th>\n      <th></th>\n      <th></th>\n      <th></th>\n      <th></th>\n    </tr>\n  </thead>\n  <tbody>\n    <tr>\n      <th>NOT_TERMINAL</th>\n      <td>20702</td>\n      <td>20702</td>\n      <td>20702</td>\n      <td>20702</td>\n      <td>20702</td>\n      <td>20702</td>\n      <td>20702</td>\n      <td>20702</td>\n      <td>20702</td>\n    </tr>\n    <tr>\n      <th>TERMINAL</th>\n      <td>133907</td>\n      <td>133907</td>\n      <td>133907</td>\n      <td>133907</td>\n      <td>133907</td>\n      <td>133907</td>\n      <td>0</td>\n      <td>133907</td>\n      <td>133907</td>\n    </tr>\n  </tbody>\n</table>\n</div>"
     },
     "execution_count": 109,
     "metadata": {},
     "output_type": "execute_result"
    }
   ],
   "source": [
    "# For turns with a work order find the rate of terminal work orders\n",
    "df3[\n",
    "    (df3.SR_ID.notna()) &\n",
    "    (df3.CREATED_AT < pd.to_datetime('today').floor('D') + pd.Timedelta(-30, unit='D'))\n",
    "].groupby(by=['TERMINAL_STATUS']).count()"
   ],
   "metadata": {
    "collapsed": false,
    "pycharm": {
     "name": "#%%\n"
    }
   }
  },
  {
   "cell_type": "code",
   "execution_count": 110,
   "outputs": [
    {
     "data": {
      "text/plain": "                                      VHOST  TURN_ID  SR_ID  WO_ID  \\\nTERMINAL_STATUS WORK_ORDER_FRESHNESS                                 \nNOT_TERMINAL    FRESH                  3880     3880   3880   3880   \n                STALE                 16822    16822  16822  16822   \n\n                                      STATUS_CODE  WO_STATUS  CREATED_AT  \\\nTERMINAL_STATUS WORK_ORDER_FRESHNESS                                       \nNOT_TERMINAL    FRESH                        3880       3880        3880   \n                STALE                       16822      16822       16822   \n\n                                      UPDATED_AT  \nTERMINAL_STATUS WORK_ORDER_FRESHNESS              \nNOT_TERMINAL    FRESH                       3880  \n                STALE                      16822  ",
      "text/html": "<div>\n<style scoped>\n    .dataframe tbody tr th:only-of-type {\n        vertical-align: middle;\n    }\n\n    .dataframe tbody tr th {\n        vertical-align: top;\n    }\n\n    .dataframe thead th {\n        text-align: right;\n    }\n</style>\n<table border=\"1\" class=\"dataframe\">\n  <thead>\n    <tr style=\"text-align: right;\">\n      <th></th>\n      <th></th>\n      <th>VHOST</th>\n      <th>TURN_ID</th>\n      <th>SR_ID</th>\n      <th>WO_ID</th>\n      <th>STATUS_CODE</th>\n      <th>WO_STATUS</th>\n      <th>CREATED_AT</th>\n      <th>UPDATED_AT</th>\n    </tr>\n    <tr>\n      <th>TERMINAL_STATUS</th>\n      <th>WORK_ORDER_FRESHNESS</th>\n      <th></th>\n      <th></th>\n      <th></th>\n      <th></th>\n      <th></th>\n      <th></th>\n      <th></th>\n      <th></th>\n    </tr>\n  </thead>\n  <tbody>\n    <tr>\n      <th rowspan=\"2\" valign=\"top\">NOT_TERMINAL</th>\n      <th>FRESH</th>\n      <td>3880</td>\n      <td>3880</td>\n      <td>3880</td>\n      <td>3880</td>\n      <td>3880</td>\n      <td>3880</td>\n      <td>3880</td>\n      <td>3880</td>\n    </tr>\n    <tr>\n      <th>STALE</th>\n      <td>16822</td>\n      <td>16822</td>\n      <td>16822</td>\n      <td>16822</td>\n      <td>16822</td>\n      <td>16822</td>\n      <td>16822</td>\n      <td>16822</td>\n    </tr>\n  </tbody>\n</table>\n</div>"
     },
     "execution_count": 110,
     "metadata": {},
     "output_type": "execute_result"
    }
   ],
   "source": [
    "df3[\n",
    "    (df3.SR_ID.notna()) &\n",
    "    (df3.CREATED_AT < pd.to_datetime('today').floor('D') + pd.Timedelta(-30, unit='D'))\n",
    "].groupby(by=['TERMINAL_STATUS', 'WORK_ORDER_FRESHNESS']).count()"
   ],
   "metadata": {
    "collapsed": false,
    "pycharm": {
     "name": "#%%\n"
    }
   }
  }
 ],
 "metadata": {
  "kernelspec": {
   "display_name": "Python 3",
   "language": "python",
   "name": "python3"
  },
  "language_info": {
   "codemirror_mode": {
    "name": "ipython",
    "version": 2
   },
   "file_extension": ".py",
   "mimetype": "text/x-python",
   "name": "python",
   "nbconvert_exporter": "python",
   "pygments_lexer": "ipython2",
   "version": "2.7.6"
  }
 },
 "nbformat": 4,
 "nbformat_minor": 0
}