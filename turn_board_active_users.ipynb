{
 "cells": [
  {
   "cell_type": "code",
   "execution_count": 81,
   "metadata": {
    "collapsed": true
   },
   "outputs": [],
   "source": [
    "import numpy as np\n",
    "import pandas as pd\n",
    "import matplotlib.pyplot as plt"
   ]
  },
  {
   "cell_type": "code",
   "execution_count": 2,
   "outputs": [],
   "source": [
    "infile = '~/Desktop/mid_market_measurement/data/turn_board/Turn_Board_Active_Usage_2021_05_12.csv'\n"
   ],
   "metadata": {
    "collapsed": false,
    "pycharm": {
     "name": "#%%\n"
    }
   }
  },
  {
   "cell_type": "code",
   "execution_count": 3,
   "outputs": [],
   "source": [
    "df = pd.read_csv(infile)"
   ],
   "metadata": {
    "collapsed": false,
    "pycharm": {
     "name": "#%%\n"
    }
   }
  },
  {
   "cell_type": "code",
   "execution_count": 13,
   "outputs": [
    {
     "data": {
      "text/plain": "Index(['CUSTOMER_SEGMENT', 'VHOST', 'PROPERTY_ID', 'UNIT_GROUP_ID', 'UNIT_ID',\n       'UNIT_UUID', 'OCCUPANCY_ID', 'MOVE_OUT_DATE', 'MOVE_OUT_OCCUPANCY_ID',\n       'TURN_ID', 'ACTIVE_USER_USAGE_TIMESTAMP', 'TOTAL_INTERACTIONS',\n       'LAST_UPDATED_AT', 'LAST_UPDATED_DATE'],\n      dtype='object')"
     },
     "execution_count": 13,
     "metadata": {},
     "output_type": "execute_result"
    }
   ],
   "source": [
    "df.columns"
   ],
   "metadata": {
    "collapsed": false,
    "pycharm": {
     "name": "#%%\n"
    }
   }
  },
  {
   "cell_type": "code",
   "execution_count": 166,
   "outputs": [],
   "source": [
    "df['MOVE_OUT_DATE'] = pd.to_datetime(df['MOVE_OUT_DATE'])\n",
    "df['LAST_UPDATED_DATE'] = pd.to_datetime(df['LAST_UPDATED_AT']).dt.date\n",
    "df['LAST_UPDATED_AT'] = pd.to_datetime(df['LAST_UPDATED_AT'])\n",
    "df['TOTAL_INTERACTIONS'].fillna(0, inplace=True)"
   ],
   "metadata": {
    "collapsed": false,
    "pycharm": {
     "name": "#%%\n"
    }
   }
  },
  {
   "cell_type": "code",
   "execution_count": 15,
   "outputs": [],
   "source": [
    "df['UNIQUE_PROPERTIES'] = df['VHOST'] +'-'+ df['PROPERTY_ID'].astype(str)\n",
    "df['UNIQUE_UNITS'] = df['VHOST'].astype(str) +'-'+ df['PROPERTY_ID'].astype(str) + '-' + df['UNIT_ID'].astype(str)"
   ],
   "metadata": {
    "collapsed": false,
    "pycharm": {
     "name": "#%%\n"
    }
   }
  },
  {
   "cell_type": "code",
   "execution_count": 47,
   "outputs": [
    {
     "data": {
      "text/plain": "                       VHOST  OCCUPANCY_ID MOVE_OUT_DATE  TURN_ID  \\\n358168  dougwettonproperties         14097    2021-05-12    751.0   \n124040             empirerem           301    2021-05-12      NaN   \n375578      utopiamanagement         34396    2021-05-12   1189.0   \n324627           scottoneill           261    2021-05-12      NaN   \n315747    bayshoreproperties         11305    2021-05-12      NaN   \n...                      ...           ...           ...      ...   \n293028     networkrealestate           372    2021-02-03      NaN   \n213559             trgrealty          1155    2021-02-03      NaN   \n293008       marshallreddick          3793    2021-02-03    222.0   \n50936                    amj          1571    2021-02-03      NaN   \n39207   mdpropertymanagement          1743    2021-02-03      NaN   \n\n        TOTAL_INTERACTIONS  \n358168                 NaN  \n124040                 NaN  \n375578                 NaN  \n324627                 NaN  \n315747                 NaN  \n...                    ...  \n293028                 NaN  \n213559                 NaN  \n293008                 NaN  \n50936                  NaN  \n39207                  NaN  \n\n[376181 rows x 5 columns]",
      "text/html": "<div>\n<style scoped>\n    .dataframe tbody tr th:only-of-type {\n        vertical-align: middle;\n    }\n\n    .dataframe tbody tr th {\n        vertical-align: top;\n    }\n\n    .dataframe thead th {\n        text-align: right;\n    }\n</style>\n<table border=\"1\" class=\"dataframe\">\n  <thead>\n    <tr style=\"text-align: right;\">\n      <th></th>\n      <th>VHOST</th>\n      <th>OCCUPANCY_ID</th>\n      <th>MOVE_OUT_DATE</th>\n      <th>TURN_ID</th>\n      <th>TOTAL_INTERACTIONS</th>\n    </tr>\n  </thead>\n  <tbody>\n    <tr>\n      <th>358168</th>\n      <td>dougwettonproperties</td>\n      <td>14097</td>\n      <td>2021-05-12</td>\n      <td>751.0</td>\n      <td>NaN</td>\n    </tr>\n    <tr>\n      <th>124040</th>\n      <td>empirerem</td>\n      <td>301</td>\n      <td>2021-05-12</td>\n      <td>NaN</td>\n      <td>NaN</td>\n    </tr>\n    <tr>\n      <th>375578</th>\n      <td>utopiamanagement</td>\n      <td>34396</td>\n      <td>2021-05-12</td>\n      <td>1189.0</td>\n      <td>NaN</td>\n    </tr>\n    <tr>\n      <th>324627</th>\n      <td>scottoneill</td>\n      <td>261</td>\n      <td>2021-05-12</td>\n      <td>NaN</td>\n      <td>NaN</td>\n    </tr>\n    <tr>\n      <th>315747</th>\n      <td>bayshoreproperties</td>\n      <td>11305</td>\n      <td>2021-05-12</td>\n      <td>NaN</td>\n      <td>NaN</td>\n    </tr>\n    <tr>\n      <th>...</th>\n      <td>...</td>\n      <td>...</td>\n      <td>...</td>\n      <td>...</td>\n      <td>...</td>\n    </tr>\n    <tr>\n      <th>293028</th>\n      <td>networkrealestate</td>\n      <td>372</td>\n      <td>2021-02-03</td>\n      <td>NaN</td>\n      <td>NaN</td>\n    </tr>\n    <tr>\n      <th>213559</th>\n      <td>trgrealty</td>\n      <td>1155</td>\n      <td>2021-02-03</td>\n      <td>NaN</td>\n      <td>NaN</td>\n    </tr>\n    <tr>\n      <th>293008</th>\n      <td>marshallreddick</td>\n      <td>3793</td>\n      <td>2021-02-03</td>\n      <td>222.0</td>\n      <td>NaN</td>\n    </tr>\n    <tr>\n      <th>50936</th>\n      <td>amj</td>\n      <td>1571</td>\n      <td>2021-02-03</td>\n      <td>NaN</td>\n      <td>NaN</td>\n    </tr>\n    <tr>\n      <th>39207</th>\n      <td>mdpropertymanagement</td>\n      <td>1743</td>\n      <td>2021-02-03</td>\n      <td>NaN</td>\n      <td>NaN</td>\n    </tr>\n  </tbody>\n</table>\n<p>376181 rows × 5 columns</p>\n</div>"
     },
     "execution_count": 47,
     "metadata": {},
     "output_type": "execute_result"
    }
   ],
   "source": [
    "df[['VHOST', 'OCCUPANCY_ID', 'MOVE_OUT_DATE', 'TURN_ID', 'TOTAL_INTERACTIONS']].sort_values(by='MOVE_OUT_DATE', ascending=False)\n",
    "\n",
    "# df.groupby('LAST_UPDATED_DATE').agg(['sum','count'])['TOTAL_INTERACTIONS'].plot()\n",
    "# df.groupby(['LAST_UPDATED_DATE', 'UNIQUE_PROPERTIES']).sum()['TOTAL_INTERACTIONS']\n",
    "# df.groupby('LAST_UPDATED_DATE').agg({'TOTAL_INTERACTIONS': ['sum', 'count']}.plot(title='Active Turn Board Use', ylabel='Meaningful Interactions')"
   ],
   "metadata": {
    "collapsed": false,
    "pycharm": {
     "name": "#%%\n"
    }
   }
  },
  {
   "cell_type": "code",
   "execution_count": 39,
   "outputs": [],
   "source": [
    "def active_users_by_cohort(interactions_log_df, period_length=1, user_column='VHOST', independent_variable_col='MOVE_OUT_DATE'):\n",
    "    active_user_df = pd.DataFrame({\"date\": pd.date_range(interactions_log_df['MOVE_OUT_DATE'].min(), interactions_log_df['MOVE_OUT_DATE'].max())})\n",
    "    active_user_count_df = pd.DataFrame({\"date\": pd.date_range(interactions_log_df['MOVE_OUT_DATE'].min(), interactions_log_df['MOVE_OUT_DATE'].max())})\n",
    "    existing_users = set()\n",
    "    for cohort_date in trange(len(active_user_df)):\n",
    "        active_user_df[cohort_date] = np.nan\n",
    "        active_user_count_df[cohort_date] = 0\n",
    "        origin_date = active_user_df[independent_variable_col][cohort_date]\n",
    "        offset_date = origin_date - pd.offsets.Day(int(period_length))\n",
    "        base_cohort = set(interactions_log_df[\n",
    "                              (interactions_log_df[independent_variable_col] <= origin_date) &\n",
    "                              (interactions_log_df[independent_variable_col] > offset_date)\n",
    "                          ][user_column].unique()) - existing_users\n",
    "        existing_users.update(base_cohort)\n",
    "        for i in range(cohort_date, len(active_user_df)):\n",
    "            origin_date = active_user_df[independent_variable_col][i]\n",
    "            offset_date = origin_date - pd.offsets.Day(int(period_length))\n",
    "            current_cohort = set(interactions_log_df[\n",
    "                                     (interactions_log_df[independent_variable_col] <= origin_date) &\n",
    "                                     (interactions_log_df[independent_variable_col] > offset_date)\n",
    "                                 ][user_column].unique())\n",
    "            if len(base_cohort) != 0:\n",
    "                active_user_df.loc[i, cohort_date] = len(base_cohort & current_cohort)/len(base_cohort)\n",
    "                active_user_count_df.loc[i, cohort_date] = len(base_cohort & current_cohort)\n",
    "    return active_user_df, active_user_count_df"
   ],
   "metadata": {
    "collapsed": false,
    "pycharm": {
     "name": "#%%\n"
    }
   }
  },
  {
   "cell_type": "code",
   "execution_count": 119,
   "outputs": [],
   "source": [
    "this = df[df['VHOST'] == 'birgo'].groupby(['VHOST', 'OCCUPANCY_ID']).count()[['TURN_ID', 'TOTAL_INTERACTIONS']].eval('USAGE_RATE = TOTAL_INTERACTIONS / TURN_ID')\n",
    "    # jevonsproperty\n",
    "    # northoakprop\n",
    "    # birgo\n",
    "\n",
    "    # .agg({'OCCUPANCY_ID': 'count', 'TURN_ID':'count', 'TOTAL_INTERACTIONS': 'count', })"
   ],
   "metadata": {
    "collapsed": false,
    "pycharm": {
     "name": "#%%\n"
    }
   }
  },
  {
   "cell_type": "code",
   "execution_count": 130,
   "outputs": [
    {
     "ename": "ValueError",
     "evalue": "cannot insert level_0, already exists",
     "output_type": "error",
     "traceback": [
      "\u001B[0;31m---------------------------------------------------------------------------\u001B[0m",
      "\u001B[0;31mValueError\u001B[0m                                Traceback (most recent call last)",
      "\u001B[0;32m<ipython-input-130-f55cf6f717a0>\u001B[0m in \u001B[0;36m<module>\u001B[0;34m\u001B[0m\n\u001B[0;32m----> 1\u001B[0;31m \u001B[0mthis\u001B[0m \u001B[0;34m=\u001B[0m \u001B[0mthis\u001B[0m\u001B[0;34m.\u001B[0m\u001B[0mreset_index\u001B[0m\u001B[0;34m(\u001B[0m\u001B[0;34m)\u001B[0m\u001B[0;34m\u001B[0m\u001B[0;34m\u001B[0m\u001B[0m\n\u001B[0m\u001B[1;32m      2\u001B[0m this = this[\n\u001B[1;32m      3\u001B[0m     \u001B[0;34m(\u001B[0m\u001B[0mthis\u001B[0m\u001B[0;34m.\u001B[0m\u001B[0mOCCUPANCY_ID\u001B[0m \u001B[0;34m>\u001B[0m \u001B[0;36m0\u001B[0m\u001B[0;34m)\u001B[0m \u001B[0;34m&\u001B[0m\u001B[0;34m\u001B[0m\u001B[0;34m\u001B[0m\u001B[0m\n\u001B[1;32m      4\u001B[0m     \u001B[0;34m(\u001B[0m\u001B[0mthis\u001B[0m\u001B[0;34m.\u001B[0m\u001B[0mTURN_ID\u001B[0m \u001B[0;34m>\u001B[0m \u001B[0;36m0\u001B[0m\u001B[0;34m)\u001B[0m\u001B[0;34m\u001B[0m\u001B[0;34m\u001B[0m\u001B[0m\n\u001B[1;32m      5\u001B[0m ].reset_index()\n",
      "\u001B[0;32m~/Desktop/mid_market_measurement/venv/lib/python3.8/site-packages/pandas/core/frame.py\u001B[0m in \u001B[0;36mreset_index\u001B[0;34m(self, level, drop, inplace, col_level, col_fill)\u001B[0m\n\u001B[1;32m   5014\u001B[0m                 \u001B[0;31m# to ndarray and maybe infer different dtype\u001B[0m\u001B[0;34m\u001B[0m\u001B[0;34m\u001B[0m\u001B[0;34m\u001B[0m\u001B[0m\n\u001B[1;32m   5015\u001B[0m                 \u001B[0mlevel_values\u001B[0m \u001B[0;34m=\u001B[0m \u001B[0mmaybe_casted_values\u001B[0m\u001B[0;34m(\u001B[0m\u001B[0mlev\u001B[0m\u001B[0;34m,\u001B[0m \u001B[0mlab\u001B[0m\u001B[0;34m)\u001B[0m\u001B[0;34m\u001B[0m\u001B[0;34m\u001B[0m\u001B[0m\n\u001B[0;32m-> 5016\u001B[0;31m                 \u001B[0mnew_obj\u001B[0m\u001B[0;34m.\u001B[0m\u001B[0minsert\u001B[0m\u001B[0;34m(\u001B[0m\u001B[0;36m0\u001B[0m\u001B[0;34m,\u001B[0m \u001B[0mname\u001B[0m\u001B[0;34m,\u001B[0m \u001B[0mlevel_values\u001B[0m\u001B[0;34m)\u001B[0m\u001B[0;34m\u001B[0m\u001B[0;34m\u001B[0m\u001B[0m\n\u001B[0m\u001B[1;32m   5017\u001B[0m \u001B[0;34m\u001B[0m\u001B[0m\n\u001B[1;32m   5018\u001B[0m         \u001B[0mnew_obj\u001B[0m\u001B[0;34m.\u001B[0m\u001B[0mindex\u001B[0m \u001B[0;34m=\u001B[0m \u001B[0mnew_index\u001B[0m\u001B[0;34m\u001B[0m\u001B[0;34m\u001B[0m\u001B[0m\n",
      "\u001B[0;32m~/Desktop/mid_market_measurement/venv/lib/python3.8/site-packages/pandas/core/frame.py\u001B[0m in \u001B[0;36minsert\u001B[0;34m(self, loc, column, value, allow_duplicates)\u001B[0m\n\u001B[1;32m   3761\u001B[0m         \u001B[0mself\u001B[0m\u001B[0;34m.\u001B[0m\u001B[0m_ensure_valid_index\u001B[0m\u001B[0;34m(\u001B[0m\u001B[0mvalue\u001B[0m\u001B[0;34m)\u001B[0m\u001B[0;34m\u001B[0m\u001B[0;34m\u001B[0m\u001B[0m\n\u001B[1;32m   3762\u001B[0m         \u001B[0mvalue\u001B[0m \u001B[0;34m=\u001B[0m \u001B[0mself\u001B[0m\u001B[0;34m.\u001B[0m\u001B[0m_sanitize_column\u001B[0m\u001B[0;34m(\u001B[0m\u001B[0mcolumn\u001B[0m\u001B[0;34m,\u001B[0m \u001B[0mvalue\u001B[0m\u001B[0;34m,\u001B[0m \u001B[0mbroadcast\u001B[0m\u001B[0;34m=\u001B[0m\u001B[0;32mFalse\u001B[0m\u001B[0;34m)\u001B[0m\u001B[0;34m\u001B[0m\u001B[0;34m\u001B[0m\u001B[0m\n\u001B[0;32m-> 3763\u001B[0;31m         \u001B[0mself\u001B[0m\u001B[0;34m.\u001B[0m\u001B[0m_mgr\u001B[0m\u001B[0;34m.\u001B[0m\u001B[0minsert\u001B[0m\u001B[0;34m(\u001B[0m\u001B[0mloc\u001B[0m\u001B[0;34m,\u001B[0m \u001B[0mcolumn\u001B[0m\u001B[0;34m,\u001B[0m \u001B[0mvalue\u001B[0m\u001B[0;34m,\u001B[0m \u001B[0mallow_duplicates\u001B[0m\u001B[0;34m=\u001B[0m\u001B[0mallow_duplicates\u001B[0m\u001B[0;34m)\u001B[0m\u001B[0;34m\u001B[0m\u001B[0;34m\u001B[0m\u001B[0m\n\u001B[0m\u001B[1;32m   3764\u001B[0m \u001B[0;34m\u001B[0m\u001B[0m\n\u001B[1;32m   3765\u001B[0m     \u001B[0;32mdef\u001B[0m \u001B[0massign\u001B[0m\u001B[0;34m(\u001B[0m\u001B[0mself\u001B[0m\u001B[0;34m,\u001B[0m \u001B[0;34m**\u001B[0m\u001B[0mkwargs\u001B[0m\u001B[0;34m)\u001B[0m \u001B[0;34m->\u001B[0m \u001B[0mDataFrame\u001B[0m\u001B[0;34m:\u001B[0m\u001B[0;34m\u001B[0m\u001B[0;34m\u001B[0m\u001B[0m\n",
      "\u001B[0;32m~/Desktop/mid_market_measurement/venv/lib/python3.8/site-packages/pandas/core/internals/managers.py\u001B[0m in \u001B[0;36minsert\u001B[0;34m(self, loc, item, value, allow_duplicates)\u001B[0m\n\u001B[1;32m   1189\u001B[0m         \u001B[0;32mif\u001B[0m \u001B[0;32mnot\u001B[0m \u001B[0mallow_duplicates\u001B[0m \u001B[0;32mand\u001B[0m \u001B[0mitem\u001B[0m \u001B[0;32min\u001B[0m \u001B[0mself\u001B[0m\u001B[0;34m.\u001B[0m\u001B[0mitems\u001B[0m\u001B[0;34m:\u001B[0m\u001B[0;34m\u001B[0m\u001B[0;34m\u001B[0m\u001B[0m\n\u001B[1;32m   1190\u001B[0m             \u001B[0;31m# Should this be a different kind of error??\u001B[0m\u001B[0;34m\u001B[0m\u001B[0;34m\u001B[0m\u001B[0;34m\u001B[0m\u001B[0m\n\u001B[0;32m-> 1191\u001B[0;31m             \u001B[0;32mraise\u001B[0m \u001B[0mValueError\u001B[0m\u001B[0;34m(\u001B[0m\u001B[0;34mf\"cannot insert {item}, already exists\"\u001B[0m\u001B[0;34m)\u001B[0m\u001B[0;34m\u001B[0m\u001B[0;34m\u001B[0m\u001B[0m\n\u001B[0m\u001B[1;32m   1192\u001B[0m \u001B[0;34m\u001B[0m\u001B[0m\n\u001B[1;32m   1193\u001B[0m         \u001B[0;32mif\u001B[0m \u001B[0;32mnot\u001B[0m \u001B[0misinstance\u001B[0m\u001B[0;34m(\u001B[0m\u001B[0mloc\u001B[0m\u001B[0;34m,\u001B[0m \u001B[0mint\u001B[0m\u001B[0;34m)\u001B[0m\u001B[0;34m:\u001B[0m\u001B[0;34m\u001B[0m\u001B[0;34m\u001B[0m\u001B[0m\n",
      "\u001B[0;31mValueError\u001B[0m: cannot insert level_0, already exists"
     ]
    }
   ],
   "source": [
    "this = this.reset_index()\n",
    "this = this[\n",
    "    (this.OCCUPANCY_ID > 0) &\n",
    "    (this.TURN_ID > 0)\n",
    "].reset_index()\n",
    "this['SEQUENCE_ID'] = np.nan\n",
    "# this"
   ],
   "metadata": {
    "collapsed": false,
    "pycharm": {
     "name": "#%%\n"
    }
   }
  },
  {
   "cell_type": "code",
   "execution_count": 131,
   "outputs": [],
   "source": [
    "first_active = this[(this.TOTAL_INTERACTIONS > 0)].index[0]\n",
    "this.loc[this[first_active:].index, 'SEQUENCE_ID'] = range(0, len(this) - first_active)\n",
    "# this.loc[this[(this.TOTAL_INTERACTIONS > 0)].index[0]:]['SEQUENCE_ID'] = range(0, len(this[this[(this.TOTAL_INTERACTIONS > 0)].index[0]:]))\n",
    "# this.loc[this[3:].index, 'SEQUENCE_ID'] = range(0, 40)\n",
    "\n",
    "# this.loc[(this.index >= start_range), 'SEQUENCE_ID'] =\n",
    "# this[(this.TOTAL_INTERACTIONS > 0)].index[0]\n",
    "# ge(0, len(this) - start_range - 1)\n",
    "# this\n",
    "# pd.date_range(this.reset_index()['MOVE_OUT_DATE'].min(), this.reset_index()['MOVE_OUT_DATE'].max()).sort_values()"
   ],
   "metadata": {
    "collapsed": false,
    "pycharm": {
     "name": "#%%\n"
    }
   }
  },
  {
   "cell_type": "code",
   "execution_count": 225,
   "outputs": [
    {
     "data": {
      "text/plain": "      session  encoremgmt  reedypropertygroup  youngamericarealty  fox  \\\n0           0         1.0                 1.0                 1.0  1.0   \n1           1         1.0                 0.0                 0.0  0.0   \n2           2         0.0                 0.0                 0.0  0.0   \n3           3         0.0                 0.0                 0.0  1.0   \n4           4         1.0                 0.0                 0.0  0.0   \n...       ...         ...                 ...                 ...  ...   \n4438     4438         NaN                 NaN                 NaN  NaN   \n4439     4439         NaN                 NaN                 NaN  NaN   \n4440     4440         NaN                 NaN                 NaN  NaN   \n4441     4441         NaN                 NaN                 NaN  NaN   \n4442     4442         NaN                 NaN                 NaN  NaN   \n\n      nestmanagement  steinerrealty  daymarkinc  kellernjadd  leuvengroup  \\\n0                1.0            1.0         1.0          1.0          1.0   \n1                0.0            0.0         1.0          0.0          0.0   \n2                0.0            0.0         1.0          1.0          0.0   \n3                0.0            0.0         1.0          1.0          0.0   \n4                0.0            0.0         1.0          0.0          0.0   \n...              ...            ...         ...          ...          ...   \n4438             NaN            NaN         NaN          NaN          NaN   \n4439             NaN            NaN         NaN          NaN          NaN   \n4440             NaN            NaN         NaN          NaN          NaN   \n4441             NaN            NaN         NaN          NaN          NaN   \n4442             NaN            NaN         NaN          NaN          NaN   \n\n      ...  pegasusmgt  norpointcommunities  progressivesf  vegashomes4rent  \\\n0     ...         1.0                  1.0            1.0              1.0   \n1     ...         0.0                  NaN            1.0              1.0   \n2     ...         0.0                  NaN            0.0              1.0   \n3     ...         0.0                  NaN            1.0              1.0   \n4     ...         0.0                  NaN            NaN              0.0   \n...   ...         ...                  ...            ...              ...   \n4438  ...         NaN                  NaN            NaN              NaN   \n4439  ...         NaN                  NaN            NaN              NaN   \n4440  ...         NaN                  NaN            NaN              NaN   \n4441  ...         NaN                  NaN            NaN              NaN   \n4442  ...         NaN                  NaN            NaN              NaN   \n\n      wspropmgmt  sermar  sixstarproperties  garciagrp  utopiamanagement  \\\n0            1.0     1.0                1.0        1.0               1.0   \n1            1.0     1.0                1.0        0.0               0.0   \n2            0.0     0.0                1.0        0.0               0.0   \n3            0.0     1.0                0.0        0.0               0.0   \n4            0.0     1.0                1.0        0.0               0.0   \n...          ...     ...                ...        ...               ...   \n4438         NaN     NaN                NaN        NaN               NaN   \n4439         NaN     NaN                NaN        NaN               NaN   \n4440         NaN     NaN                NaN        NaN               NaN   \n4441         NaN     NaN                NaN        NaN               NaN   \n4442         NaN     NaN                NaN        NaN               NaN   \n\n      thosdwalsh  \n0            1.0  \n1            0.0  \n2            0.0  \n3            0.0  \n4            0.0  \n...          ...  \n4438         NaN  \n4439         NaN  \n4440         NaN  \n4441         NaN  \n4442         NaN  \n\n[4443 rows x 450 columns]",
      "text/html": "<div>\n<style scoped>\n    .dataframe tbody tr th:only-of-type {\n        vertical-align: middle;\n    }\n\n    .dataframe tbody tr th {\n        vertical-align: top;\n    }\n\n    .dataframe thead th {\n        text-align: right;\n    }\n</style>\n<table border=\"1\" class=\"dataframe\">\n  <thead>\n    <tr style=\"text-align: right;\">\n      <th></th>\n      <th>session</th>\n      <th>encoremgmt</th>\n      <th>reedypropertygroup</th>\n      <th>youngamericarealty</th>\n      <th>fox</th>\n      <th>nestmanagement</th>\n      <th>steinerrealty</th>\n      <th>daymarkinc</th>\n      <th>kellernjadd</th>\n      <th>leuvengroup</th>\n      <th>...</th>\n      <th>pegasusmgt</th>\n      <th>norpointcommunities</th>\n      <th>progressivesf</th>\n      <th>vegashomes4rent</th>\n      <th>wspropmgmt</th>\n      <th>sermar</th>\n      <th>sixstarproperties</th>\n      <th>garciagrp</th>\n      <th>utopiamanagement</th>\n      <th>thosdwalsh</th>\n    </tr>\n  </thead>\n  <tbody>\n    <tr>\n      <th>0</th>\n      <td>0</td>\n      <td>1.0</td>\n      <td>1.0</td>\n      <td>1.0</td>\n      <td>1.0</td>\n      <td>1.0</td>\n      <td>1.0</td>\n      <td>1.0</td>\n      <td>1.0</td>\n      <td>1.0</td>\n      <td>...</td>\n      <td>1.0</td>\n      <td>1.0</td>\n      <td>1.0</td>\n      <td>1.0</td>\n      <td>1.0</td>\n      <td>1.0</td>\n      <td>1.0</td>\n      <td>1.0</td>\n      <td>1.0</td>\n      <td>1.0</td>\n    </tr>\n    <tr>\n      <th>1</th>\n      <td>1</td>\n      <td>1.0</td>\n      <td>0.0</td>\n      <td>0.0</td>\n      <td>0.0</td>\n      <td>0.0</td>\n      <td>0.0</td>\n      <td>1.0</td>\n      <td>0.0</td>\n      <td>0.0</td>\n      <td>...</td>\n      <td>0.0</td>\n      <td>NaN</td>\n      <td>1.0</td>\n      <td>1.0</td>\n      <td>1.0</td>\n      <td>1.0</td>\n      <td>1.0</td>\n      <td>0.0</td>\n      <td>0.0</td>\n      <td>0.0</td>\n    </tr>\n    <tr>\n      <th>2</th>\n      <td>2</td>\n      <td>0.0</td>\n      <td>0.0</td>\n      <td>0.0</td>\n      <td>0.0</td>\n      <td>0.0</td>\n      <td>0.0</td>\n      <td>1.0</td>\n      <td>1.0</td>\n      <td>0.0</td>\n      <td>...</td>\n      <td>0.0</td>\n      <td>NaN</td>\n      <td>0.0</td>\n      <td>1.0</td>\n      <td>0.0</td>\n      <td>0.0</td>\n      <td>1.0</td>\n      <td>0.0</td>\n      <td>0.0</td>\n      <td>0.0</td>\n    </tr>\n    <tr>\n      <th>3</th>\n      <td>3</td>\n      <td>0.0</td>\n      <td>0.0</td>\n      <td>0.0</td>\n      <td>1.0</td>\n      <td>0.0</td>\n      <td>0.0</td>\n      <td>1.0</td>\n      <td>1.0</td>\n      <td>0.0</td>\n      <td>...</td>\n      <td>0.0</td>\n      <td>NaN</td>\n      <td>1.0</td>\n      <td>1.0</td>\n      <td>0.0</td>\n      <td>1.0</td>\n      <td>0.0</td>\n      <td>0.0</td>\n      <td>0.0</td>\n      <td>0.0</td>\n    </tr>\n    <tr>\n      <th>4</th>\n      <td>4</td>\n      <td>1.0</td>\n      <td>0.0</td>\n      <td>0.0</td>\n      <td>0.0</td>\n      <td>0.0</td>\n      <td>0.0</td>\n      <td>1.0</td>\n      <td>0.0</td>\n      <td>0.0</td>\n      <td>...</td>\n      <td>0.0</td>\n      <td>NaN</td>\n      <td>NaN</td>\n      <td>0.0</td>\n      <td>0.0</td>\n      <td>1.0</td>\n      <td>1.0</td>\n      <td>0.0</td>\n      <td>0.0</td>\n      <td>0.0</td>\n    </tr>\n    <tr>\n      <th>...</th>\n      <td>...</td>\n      <td>...</td>\n      <td>...</td>\n      <td>...</td>\n      <td>...</td>\n      <td>...</td>\n      <td>...</td>\n      <td>...</td>\n      <td>...</td>\n      <td>...</td>\n      <td>...</td>\n      <td>...</td>\n      <td>...</td>\n      <td>...</td>\n      <td>...</td>\n      <td>...</td>\n      <td>...</td>\n      <td>...</td>\n      <td>...</td>\n      <td>...</td>\n      <td>...</td>\n    </tr>\n    <tr>\n      <th>4438</th>\n      <td>4438</td>\n      <td>NaN</td>\n      <td>NaN</td>\n      <td>NaN</td>\n      <td>NaN</td>\n      <td>NaN</td>\n      <td>NaN</td>\n      <td>NaN</td>\n      <td>NaN</td>\n      <td>NaN</td>\n      <td>...</td>\n      <td>NaN</td>\n      <td>NaN</td>\n      <td>NaN</td>\n      <td>NaN</td>\n      <td>NaN</td>\n      <td>NaN</td>\n      <td>NaN</td>\n      <td>NaN</td>\n      <td>NaN</td>\n      <td>NaN</td>\n    </tr>\n    <tr>\n      <th>4439</th>\n      <td>4439</td>\n      <td>NaN</td>\n      <td>NaN</td>\n      <td>NaN</td>\n      <td>NaN</td>\n      <td>NaN</td>\n      <td>NaN</td>\n      <td>NaN</td>\n      <td>NaN</td>\n      <td>NaN</td>\n      <td>...</td>\n      <td>NaN</td>\n      <td>NaN</td>\n      <td>NaN</td>\n      <td>NaN</td>\n      <td>NaN</td>\n      <td>NaN</td>\n      <td>NaN</td>\n      <td>NaN</td>\n      <td>NaN</td>\n      <td>NaN</td>\n    </tr>\n    <tr>\n      <th>4440</th>\n      <td>4440</td>\n      <td>NaN</td>\n      <td>NaN</td>\n      <td>NaN</td>\n      <td>NaN</td>\n      <td>NaN</td>\n      <td>NaN</td>\n      <td>NaN</td>\n      <td>NaN</td>\n      <td>NaN</td>\n      <td>...</td>\n      <td>NaN</td>\n      <td>NaN</td>\n      <td>NaN</td>\n      <td>NaN</td>\n      <td>NaN</td>\n      <td>NaN</td>\n      <td>NaN</td>\n      <td>NaN</td>\n      <td>NaN</td>\n      <td>NaN</td>\n    </tr>\n    <tr>\n      <th>4441</th>\n      <td>4441</td>\n      <td>NaN</td>\n      <td>NaN</td>\n      <td>NaN</td>\n      <td>NaN</td>\n      <td>NaN</td>\n      <td>NaN</td>\n      <td>NaN</td>\n      <td>NaN</td>\n      <td>NaN</td>\n      <td>...</td>\n      <td>NaN</td>\n      <td>NaN</td>\n      <td>NaN</td>\n      <td>NaN</td>\n      <td>NaN</td>\n      <td>NaN</td>\n      <td>NaN</td>\n      <td>NaN</td>\n      <td>NaN</td>\n      <td>NaN</td>\n    </tr>\n    <tr>\n      <th>4442</th>\n      <td>4442</td>\n      <td>NaN</td>\n      <td>NaN</td>\n      <td>NaN</td>\n      <td>NaN</td>\n      <td>NaN</td>\n      <td>NaN</td>\n      <td>NaN</td>\n      <td>NaN</td>\n      <td>NaN</td>\n      <td>...</td>\n      <td>NaN</td>\n      <td>NaN</td>\n      <td>NaN</td>\n      <td>NaN</td>\n      <td>NaN</td>\n      <td>NaN</td>\n      <td>NaN</td>\n      <td>NaN</td>\n      <td>NaN</td>\n      <td>NaN</td>\n    </tr>\n  </tbody>\n</table>\n<p>4443 rows × 450 columns</p>\n</div>"
     },
     "execution_count": 225,
     "metadata": {},
     "output_type": "execute_result"
    }
   ],
   "source": [
    "session_df = pd.DataFrame({'session' : range(0, df.groupby(['VHOST']).size().max())})\n",
    "for vhost in df[df.TOTAL_INTERACTIONS != 0]['VHOST'].unique():\n",
    "    session_df[vhost] = np.nan\n",
    "    temp_df = df[\n",
    "        (df.VHOST == vhost) &\n",
    "        (df.TURN_ID.notnull())\n",
    "    ].reset_index()\n",
    "    temp_df['SESSION_ID'] = np.nan\n",
    "    first_active = temp_df[temp_df.TOTAL_INTERACTIONS > 0].index[0]\n",
    "    temp_df.loc[temp_df[first_active:].index, 'SESSION_ID'] = range(0, len(temp_df) - first_active)\n",
    "    for id in temp_df[temp_df.SESSION_ID.notnull()]['SESSION_ID']:\n",
    "        session_df.loc[id, vhost] = min(temp_df[(temp_df.SESSION_ID == id)]['TOTAL_INTERACTIONS'].max(), 1)\n",
    "\n",
    "\n",
    "session_df"
   ],
   "metadata": {
    "collapsed": false,
    "pycharm": {
     "name": "#%%\n"
    }
   }
  },
  {
   "cell_type": "code",
   "execution_count": 262,
   "outputs": [
    {
     "data": {
      "text/plain": "<Figure size 432x288 with 2 Axes>",
      "image/png": "[encoded data removed]"
     },
     "metadata": {},
     "output_type": "display_data"
    }
   ],
   "source": [
    "# df.groupby(['VHOST']).count()['TURN_ID'].mean() # average is 10\n",
    "# session_df.iloc[:,1:].mean(axis=1)[:50].plot()\n",
    "# session_df.iloc[:,1:].count(axis=1)[:100].plot()\n",
    "obs = 100\n",
    "cnt_occupancies = session_df.iloc[:,1:].count(axis=1)[:obs]\n",
    "avg_rentention = session_df.iloc[:,1:].mean(axis=1)[:obs]\n",
    "\n",
    "fig, ax1 = plt.subplots()\n",
    "color = 'tab:blue'\n",
    "text_color = 'white'\n",
    "ax1.set_xlabel('nth occupancy after first meaningful turn board interaction', color=text_color)\n",
    "ax1.set_ylabel('avg retention', color=text_color)\n",
    "ax1.plot(avg_rentention, color=color)\n",
    "ax1.tick_params(axis='y', labelcolor=text_color)\n",
    "ax1.tick_params(axis='x', labelcolor=text_color)\n",
    "\n",
    "ax2 = ax1.twinx()\n",
    "\n",
    "color = 'tab:orange'\n",
    "ax2.set_ylabel('occupancies', color=text_color)\n",
    "ax2.plot(cnt_occupancies, color=color)\n",
    "ax2.tick_params(axis='y', labelcolor=text_color)\n",
    "\n",
    "fig.tight_layout()\n",
    "plt.show()"
   ],
   "metadata": {
    "collapsed": false,
    "pycharm": {
     "name": "#%%\n"
    }
   }
  }
 ],
 "metadata": {
  "kernelspec": {
   "display_name": "Python 3",
   "language": "python",
   "name": "python3"
  },
  "language_info": {
   "codemirror_mode": {
    "name": "ipython",
    "version": 2
   },
   "file_extension": ".py",
   "mimetype": "text/x-python",
   "name": "python",
   "nbconvert_exporter": "python",
   "pygments_lexer": "ipython2",
   "version": "2.7.6"
  }
 },
 "nbformat": 4,
 "nbformat_minor": 0
}