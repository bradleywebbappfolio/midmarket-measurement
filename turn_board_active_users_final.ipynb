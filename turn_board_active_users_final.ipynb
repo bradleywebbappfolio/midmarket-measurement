{
 "cells": [
  {
   "cell_type": "code",
   "execution_count": 2,
   "metadata": {
    "collapsed": true
   },
   "outputs": [],
   "source": [
    "import numpy as np\n",
    "import pandas as pd\n",
    "import matplotlib.pyplot as plt"
   ]
  },
  {
   "cell_type": "code",
   "execution_count": 1,
   "outputs": [],
   "source": [
    "infile = '~/Desktop/mid_market_measurement/data/turn_board/Turn_Board_Active_Usage_2021_06_24.csv'\n"
   ],
   "metadata": {
    "collapsed": false,
    "pycharm": {
     "name": "#%%\n"
    }
   }
  },
  {
   "cell_type": "code",
   "execution_count": 4,
   "outputs": [],
   "source": [
    "df = pd.read_csv(infile)"
   ],
   "metadata": {
    "collapsed": false,
    "pycharm": {
     "name": "#%%\n"
    }
   }
  },
  {
   "cell_type": "code",
   "execution_count": 5,
   "outputs": [
    {
     "data": {
      "text/plain": "Index(['CUSTOMER_SEGMENT', 'VHOST', 'PROPERTY_ID', 'UNIT_GROUP_ID', 'UNIT_ID',\n       'UNIT_UUID', 'OCCUPANCY_ID', 'MOVE_OUT_DATE', 'MOVE_OUT_OCCUPANCY_ID',\n       'TURN_ID', 'ACTIVE_USER_USAGE_TIMESTAMP', 'TOTAL_INTERACTIONS',\n       'LAST_UPDATED_AT'],\n      dtype='object')"
     },
     "execution_count": 5,
     "metadata": {},
     "output_type": "execute_result"
    }
   ],
   "source": [
    "df.columns"
   ],
   "metadata": {
    "collapsed": false,
    "pycharm": {
     "name": "#%%\n"
    }
   }
  },
  {
   "cell_type": "code",
   "execution_count": 10,
   "outputs": [
    {
     "data": {
      "text/plain": "                CUSTOMER_SEGMENT             VHOST  PROPERTY_ID  \\\n189     B) Mid-Market (500-1499)     authorityprop           20   \n206     B) Mid-Market (500-1499)     authorityprop          174   \n213     B) Mid-Market (500-1499)     authorityprop          619   \n223     B) Mid-Market (500-1499)     authorityprop           81   \n247     B) Mid-Market (500-1499)     authorityprop          635   \n...                          ...               ...          ...   \n573272            A) SMB (0-499)              rema           34   \n573273            A) SMB (0-499)              rema           35   \n573274            A) SMB (0-499)              rema           43   \n573282  C) Corporate (1500-4999)  rinehartrealtors          397   \n573283  C) Corporate (1500-4999)  rinehartrealtors          583   \n\n        UNIT_GROUP_ID  UNIT_ID                             UNIT_UUID  \\\n189                34       34  68aec8ea-f487-11e9-88ab-b083fed15705   \n206               245      242  68b0d4d8-f487-11e9-88ab-b083fed15705   \n213               813      810  68b67815-f487-11e9-88ab-b083fed15705   \n223               128      126  68afe6e7-f487-11e9-88ab-b083fed15705   \n247               830      827  68b6965f-f487-11e9-88ab-b083fed15705   \n...               ...      ...                                   ...   \n573272            440      537  3aa0d4e2-0291-11eb-8f8c-128616bfbc2b   \n573273            457      554  1f30a1d9-4f8b-11eb-8f8c-128616bfbc2b   \n573274            492      589  0d5eac94-a214-11eb-8f8c-128616bfbc2b   \n573282            393      393  9a60dc75-f487-11e9-9957-12c29634c0f8   \n573283            574      574  9a618918-f487-11e9-9957-12c29634c0f8   \n\n        OCCUPANCY_ID MOVE_OUT_DATE  MOVE_OUT_OCCUPANCY_ID  TURN_ID  \\\n189             1930    2021-02-22                 1930.0      3.0   \n206             1856    2021-03-17                 1856.0     93.0   \n213             1100    2021-06-20                 1100.0    183.0   \n223              774    2021-05-31                  774.0    165.0   \n247             1695    2021-03-26                 1695.0     98.0   \n...              ...           ...                    ...      ...   \n573272          1493    2021-04-30                 1493.0     25.0   \n573273          1564    2021-04-30                 1564.0     27.0   \n573274          1623    2021-05-31                 1623.0     32.0   \n573282         12487    2021-04-30                12487.0    138.0   \n573283           574    2021-04-29                  574.0    144.0   \n\n                              ACTIVE_USER_USAGE_TIMESTAMP  TOTAL_INTERACTIONS  \\\n189     [\\n  [\\n    \"50\",\\n    \"2021-03-12 18:56:47.00...                 4.0   \n206     [\\n  [\\n    \"50\",\\n    \"2021-03-31 17:37:26.00...                 1.0   \n213     [\\n  [\\n    \"50\",\\n    \"2021-06-22 21:53:45.00...                 1.0   \n223     [\\n  [\\n    \"50\",\\n    \"2021-06-04 16:56:26.00...                 3.0   \n247     [\\n  [\\n    \"50\",\\n    \"2021-03-31 17:37:38.00...                 1.0   \n...                                                   ...                 ...   \n573272  [\\n  [\\n    \"107\",\\n    \"2021-05-28 15:36:01.0...                 1.0   \n573273  [\\n  [\\n    \"9\",\\n    \"2021-06-08 18:38:32.000...                 1.0   \n573274  [\\n  [\\n    \"107\",\\n    \"2021-06-22 15:14:19.0...                 1.0   \n573282  [\\n  [\\n    \"855\",\\n    \"2021-05-04 19:00:49.0...                 1.0   \n573283  [\\n  [\\n    \"855\",\\n    \"2021-05-11 18:55:19.0...                 2.0   \n\n           LAST_UPDATED_AT LAST_UPDATED_DATE  \n189    2021-03-12 18:56:47        2021-03-12  \n206    2021-03-31 17:37:26        2021-03-31  \n213    2021-06-22 21:53:45        2021-06-22  \n223    2021-06-04 16:56:26        2021-06-04  \n247    2021-03-31 17:37:38        2021-03-31  \n...                    ...               ...  \n573272 2021-05-28 15:36:01        2021-05-28  \n573273 2021-06-08 18:38:32        2021-06-08  \n573274 2021-06-22 15:14:19        2021-06-22  \n573282 2021-05-04 19:00:49        2021-05-04  \n573283 2021-05-11 18:55:19        2021-05-11  \n\n[10745 rows x 14 columns]",
      "text/html": "<div>\n<style scoped>\n    .dataframe tbody tr th:only-of-type {\n        vertical-align: middle;\n    }\n\n    .dataframe tbody tr th {\n        vertical-align: top;\n    }\n\n    .dataframe thead th {\n        text-align: right;\n    }\n</style>\n<table border=\"1\" class=\"dataframe\">\n  <thead>\n    <tr style=\"text-align: right;\">\n      <th></th>\n      <th>CUSTOMER_SEGMENT</th>\n      <th>VHOST</th>\n      <th>PROPERTY_ID</th>\n      <th>UNIT_GROUP_ID</th>\n      <th>UNIT_ID</th>\n      <th>UNIT_UUID</th>\n      <th>OCCUPANCY_ID</th>\n      <th>MOVE_OUT_DATE</th>\n      <th>MOVE_OUT_OCCUPANCY_ID</th>\n      <th>TURN_ID</th>\n      <th>ACTIVE_USER_USAGE_TIMESTAMP</th>\n      <th>TOTAL_INTERACTIONS</th>\n      <th>LAST_UPDATED_AT</th>\n      <th>LAST_UPDATED_DATE</th>\n    </tr>\n  </thead>\n  <tbody>\n    <tr>\n      <th>189</th>\n      <td>B) Mid-Market (500-1499)</td>\n      <td>authorityprop</td>\n      <td>20</td>\n      <td>34</td>\n      <td>34</td>\n      <td>68aec8ea-f487-11e9-88ab-b083fed15705</td>\n      <td>1930</td>\n      <td>2021-02-22</td>\n      <td>1930.0</td>\n      <td>3.0</td>\n      <td>[\\n  [\\n    \"50\",\\n    \"2021-03-12 18:56:47.00...</td>\n      <td>4.0</td>\n      <td>2021-03-12 18:56:47</td>\n      <td>2021-03-12</td>\n    </tr>\n    <tr>\n      <th>206</th>\n      <td>B) Mid-Market (500-1499)</td>\n      <td>authorityprop</td>\n      <td>174</td>\n      <td>245</td>\n      <td>242</td>\n      <td>68b0d4d8-f487-11e9-88ab-b083fed15705</td>\n      <td>1856</td>\n      <td>2021-03-17</td>\n      <td>1856.0</td>\n      <td>93.0</td>\n      <td>[\\n  [\\n    \"50\",\\n    \"2021-03-31 17:37:26.00...</td>\n      <td>1.0</td>\n      <td>2021-03-31 17:37:26</td>\n      <td>2021-03-31</td>\n    </tr>\n    <tr>\n      <th>213</th>\n      <td>B) Mid-Market (500-1499)</td>\n      <td>authorityprop</td>\n      <td>619</td>\n      <td>813</td>\n      <td>810</td>\n      <td>68b67815-f487-11e9-88ab-b083fed15705</td>\n      <td>1100</td>\n      <td>2021-06-20</td>\n      <td>1100.0</td>\n      <td>183.0</td>\n      <td>[\\n  [\\n    \"50\",\\n    \"2021-06-22 21:53:45.00...</td>\n      <td>1.0</td>\n      <td>2021-06-22 21:53:45</td>\n      <td>2021-06-22</td>\n    </tr>\n    <tr>\n      <th>223</th>\n      <td>B) Mid-Market (500-1499)</td>\n      <td>authorityprop</td>\n      <td>81</td>\n      <td>128</td>\n      <td>126</td>\n      <td>68afe6e7-f487-11e9-88ab-b083fed15705</td>\n      <td>774</td>\n      <td>2021-05-31</td>\n      <td>774.0</td>\n      <td>165.0</td>\n      <td>[\\n  [\\n    \"50\",\\n    \"2021-06-04 16:56:26.00...</td>\n      <td>3.0</td>\n      <td>2021-06-04 16:56:26</td>\n      <td>2021-06-04</td>\n    </tr>\n    <tr>\n      <th>247</th>\n      <td>B) Mid-Market (500-1499)</td>\n      <td>authorityprop</td>\n      <td>635</td>\n      <td>830</td>\n      <td>827</td>\n      <td>68b6965f-f487-11e9-88ab-b083fed15705</td>\n      <td>1695</td>\n      <td>2021-03-26</td>\n      <td>1695.0</td>\n      <td>98.0</td>\n      <td>[\\n  [\\n    \"50\",\\n    \"2021-03-31 17:37:38.00...</td>\n      <td>1.0</td>\n      <td>2021-03-31 17:37:38</td>\n      <td>2021-03-31</td>\n    </tr>\n    <tr>\n      <th>...</th>\n      <td>...</td>\n      <td>...</td>\n      <td>...</td>\n      <td>...</td>\n      <td>...</td>\n      <td>...</td>\n      <td>...</td>\n      <td>...</td>\n      <td>...</td>\n      <td>...</td>\n      <td>...</td>\n      <td>...</td>\n      <td>...</td>\n      <td>...</td>\n    </tr>\n    <tr>\n      <th>573272</th>\n      <td>A) SMB (0-499)</td>\n      <td>rema</td>\n      <td>34</td>\n      <td>440</td>\n      <td>537</td>\n      <td>3aa0d4e2-0291-11eb-8f8c-128616bfbc2b</td>\n      <td>1493</td>\n      <td>2021-04-30</td>\n      <td>1493.0</td>\n      <td>25.0</td>\n      <td>[\\n  [\\n    \"107\",\\n    \"2021-05-28 15:36:01.0...</td>\n      <td>1.0</td>\n      <td>2021-05-28 15:36:01</td>\n      <td>2021-05-28</td>\n    </tr>\n    <tr>\n      <th>573273</th>\n      <td>A) SMB (0-499)</td>\n      <td>rema</td>\n      <td>35</td>\n      <td>457</td>\n      <td>554</td>\n      <td>1f30a1d9-4f8b-11eb-8f8c-128616bfbc2b</td>\n      <td>1564</td>\n      <td>2021-04-30</td>\n      <td>1564.0</td>\n      <td>27.0</td>\n      <td>[\\n  [\\n    \"9\",\\n    \"2021-06-08 18:38:32.000...</td>\n      <td>1.0</td>\n      <td>2021-06-08 18:38:32</td>\n      <td>2021-06-08</td>\n    </tr>\n    <tr>\n      <th>573274</th>\n      <td>A) SMB (0-499)</td>\n      <td>rema</td>\n      <td>43</td>\n      <td>492</td>\n      <td>589</td>\n      <td>0d5eac94-a214-11eb-8f8c-128616bfbc2b</td>\n      <td>1623</td>\n      <td>2021-05-31</td>\n      <td>1623.0</td>\n      <td>32.0</td>\n      <td>[\\n  [\\n    \"107\",\\n    \"2021-06-22 15:14:19.0...</td>\n      <td>1.0</td>\n      <td>2021-06-22 15:14:19</td>\n      <td>2021-06-22</td>\n    </tr>\n    <tr>\n      <th>573282</th>\n      <td>C) Corporate (1500-4999)</td>\n      <td>rinehartrealtors</td>\n      <td>397</td>\n      <td>393</td>\n      <td>393</td>\n      <td>9a60dc75-f487-11e9-9957-12c29634c0f8</td>\n      <td>12487</td>\n      <td>2021-04-30</td>\n      <td>12487.0</td>\n      <td>138.0</td>\n      <td>[\\n  [\\n    \"855\",\\n    \"2021-05-04 19:00:49.0...</td>\n      <td>1.0</td>\n      <td>2021-05-04 19:00:49</td>\n      <td>2021-05-04</td>\n    </tr>\n    <tr>\n      <th>573283</th>\n      <td>C) Corporate (1500-4999)</td>\n      <td>rinehartrealtors</td>\n      <td>583</td>\n      <td>574</td>\n      <td>574</td>\n      <td>9a618918-f487-11e9-9957-12c29634c0f8</td>\n      <td>574</td>\n      <td>2021-04-29</td>\n      <td>574.0</td>\n      <td>144.0</td>\n      <td>[\\n  [\\n    \"855\",\\n    \"2021-05-11 18:55:19.0...</td>\n      <td>2.0</td>\n      <td>2021-05-11 18:55:19</td>\n      <td>2021-05-11</td>\n    </tr>\n  </tbody>\n</table>\n<p>10745 rows × 14 columns</p>\n</div>"
     },
     "execution_count": 10,
     "metadata": {},
     "output_type": "execute_result"
    }
   ],
   "source": [
    "df[df[\"ACTIVE_USER_USAGE_TIMESTAMP\"].notna()]"
   ],
   "metadata": {
    "collapsed": false,
    "pycharm": {
     "name": "#%%\n"
    }
   }
  },
  {
   "cell_type": "code",
   "execution_count": 6,
   "outputs": [],
   "source": [
    "df['MOVE_OUT_DATE'] = pd.to_datetime(df['MOVE_OUT_DATE'])\n",
    "df['LAST_UPDATED_DATE'] = pd.to_datetime(df['LAST_UPDATED_AT']).dt.date\n",
    "df['LAST_UPDATED_AT'] = pd.to_datetime(df['LAST_UPDATED_AT'])\n",
    "df['TOTAL_INTERACTIONS'].fillna(0, inplace=True)\n"
   ],
   "metadata": {
    "collapsed": false,
    "pycharm": {
     "name": "#%%\n"
    }
   }
  },
  {
   "cell_type": "code",
   "execution_count": 6,
   "outputs": [
    {
     "data": {
      "text/plain": "      session  authorityprop  bkmgmt  bayshoreproperties  coldwellbankercc  \\\n0           0            1.0     1.0                 1.0               1.0   \n1           1            0.0     0.0                 0.0               0.0   \n2           2            0.0     0.0                 0.0               0.0   \n3           3            0.0     1.0                 1.0               0.0   \n4           4            0.0     0.0                 0.0               0.0   \n...       ...            ...     ...                 ...               ...   \n4539     4539            NaN     NaN                 NaN               NaN   \n4540     4540            NaN     NaN                 NaN               NaN   \n4541     4541            NaN     NaN                 NaN               NaN   \n4542     4542            NaN     NaN                 NaN               NaN   \n4543     4543            NaN     NaN                 NaN               NaN   \n\n      ctpm  gillfamilyproperties  gpmgmt  huntex  hardyrealty  ...  c21rep  \\\n0      1.0                   1.0     1.0     1.0          1.0  ...     1.0   \n1      0.0                   0.0     0.0     0.0          0.0  ...     0.0   \n2      0.0                   1.0     0.0     0.0          0.0  ...     0.0   \n3      0.0                   0.0     0.0     0.0          0.0  ...     0.0   \n4      0.0                   0.0     0.0     0.0          0.0  ...     0.0   \n...    ...                   ...     ...     ...          ...  ...     ...   \n4539   NaN                   NaN     NaN     NaN          NaN  ...     NaN   \n4540   NaN                   NaN     NaN     NaN          NaN  ...     NaN   \n4541   NaN                   NaN     NaN     NaN          NaN  ...     NaN   \n4542   NaN                   NaN     NaN     NaN          NaN  ...     NaN   \n4543   NaN                   NaN     NaN     NaN          NaN  ...     NaN   \n\n      dalyrealty  auben  ram  realestategladiators  rema  rinehartrealtors  \\\n0            1.0    1.0  1.0                   1.0   1.0               1.0   \n1            0.0    0.0  0.0                   1.0   1.0               0.0   \n2            0.0    0.0  0.0                   1.0   1.0               0.0   \n3            0.0    0.0  0.0                   0.0   1.0               1.0   \n4            0.0    0.0  0.0                   1.0   1.0               0.0   \n...          ...    ...  ...                   ...   ...               ...   \n4539         NaN    NaN  NaN                   NaN   NaN               NaN   \n4540         NaN    NaN  NaN                   NaN   NaN               NaN   \n4541         NaN    NaN  NaN                   NaN   NaN               NaN   \n4542         NaN    NaN  NaN                   NaN   NaN               NaN   \n4543         NaN    NaN  NaN                   NaN   NaN               NaN   \n\n      rueschmgmt  valleyoak  sasapartments  \n0            1.0        1.0            1.0  \n1            0.0        1.0            0.0  \n2            0.0        1.0            0.0  \n3            0.0        0.0            0.0  \n4            0.0        0.0            0.0  \n...          ...        ...            ...  \n4539         NaN        NaN            NaN  \n4540         NaN        NaN            NaN  \n4541         NaN        NaN            NaN  \n4542         NaN        NaN            NaN  \n4543         NaN        NaN            NaN  \n\n[4544 rows x 795 columns]",
      "text/html": "<div>\n<style scoped>\n    .dataframe tbody tr th:only-of-type {\n        vertical-align: middle;\n    }\n\n    .dataframe tbody tr th {\n        vertical-align: top;\n    }\n\n    .dataframe thead th {\n        text-align: right;\n    }\n</style>\n<table border=\"1\" class=\"dataframe\">\n  <thead>\n    <tr style=\"text-align: right;\">\n      <th></th>\n      <th>session</th>\n      <th>authorityprop</th>\n      <th>bkmgmt</th>\n      <th>bayshoreproperties</th>\n      <th>coldwellbankercc</th>\n      <th>ctpm</th>\n      <th>gillfamilyproperties</th>\n      <th>gpmgmt</th>\n      <th>huntex</th>\n      <th>hardyrealty</th>\n      <th>...</th>\n      <th>c21rep</th>\n      <th>dalyrealty</th>\n      <th>auben</th>\n      <th>ram</th>\n      <th>realestategladiators</th>\n      <th>rema</th>\n      <th>rinehartrealtors</th>\n      <th>rueschmgmt</th>\n      <th>valleyoak</th>\n      <th>sasapartments</th>\n    </tr>\n  </thead>\n  <tbody>\n    <tr>\n      <th>0</th>\n      <td>0</td>\n      <td>1.0</td>\n      <td>1.0</td>\n      <td>1.0</td>\n      <td>1.0</td>\n      <td>1.0</td>\n      <td>1.0</td>\n      <td>1.0</td>\n      <td>1.0</td>\n      <td>1.0</td>\n      <td>...</td>\n      <td>1.0</td>\n      <td>1.0</td>\n      <td>1.0</td>\n      <td>1.0</td>\n      <td>1.0</td>\n      <td>1.0</td>\n      <td>1.0</td>\n      <td>1.0</td>\n      <td>1.0</td>\n      <td>1.0</td>\n    </tr>\n    <tr>\n      <th>1</th>\n      <td>1</td>\n      <td>0.0</td>\n      <td>0.0</td>\n      <td>0.0</td>\n      <td>0.0</td>\n      <td>0.0</td>\n      <td>0.0</td>\n      <td>0.0</td>\n      <td>0.0</td>\n      <td>0.0</td>\n      <td>...</td>\n      <td>0.0</td>\n      <td>0.0</td>\n      <td>0.0</td>\n      <td>0.0</td>\n      <td>1.0</td>\n      <td>1.0</td>\n      <td>0.0</td>\n      <td>0.0</td>\n      <td>1.0</td>\n      <td>0.0</td>\n    </tr>\n    <tr>\n      <th>2</th>\n      <td>2</td>\n      <td>0.0</td>\n      <td>0.0</td>\n      <td>0.0</td>\n      <td>0.0</td>\n      <td>0.0</td>\n      <td>1.0</td>\n      <td>0.0</td>\n      <td>0.0</td>\n      <td>0.0</td>\n      <td>...</td>\n      <td>0.0</td>\n      <td>0.0</td>\n      <td>0.0</td>\n      <td>0.0</td>\n      <td>1.0</td>\n      <td>1.0</td>\n      <td>0.0</td>\n      <td>0.0</td>\n      <td>1.0</td>\n      <td>0.0</td>\n    </tr>\n    <tr>\n      <th>3</th>\n      <td>3</td>\n      <td>0.0</td>\n      <td>1.0</td>\n      <td>1.0</td>\n      <td>0.0</td>\n      <td>0.0</td>\n      <td>0.0</td>\n      <td>0.0</td>\n      <td>0.0</td>\n      <td>0.0</td>\n      <td>...</td>\n      <td>0.0</td>\n      <td>0.0</td>\n      <td>0.0</td>\n      <td>0.0</td>\n      <td>0.0</td>\n      <td>1.0</td>\n      <td>1.0</td>\n      <td>0.0</td>\n      <td>0.0</td>\n      <td>0.0</td>\n    </tr>\n    <tr>\n      <th>4</th>\n      <td>4</td>\n      <td>0.0</td>\n      <td>0.0</td>\n      <td>0.0</td>\n      <td>0.0</td>\n      <td>0.0</td>\n      <td>0.0</td>\n      <td>0.0</td>\n      <td>0.0</td>\n      <td>0.0</td>\n      <td>...</td>\n      <td>0.0</td>\n      <td>0.0</td>\n      <td>0.0</td>\n      <td>0.0</td>\n      <td>1.0</td>\n      <td>1.0</td>\n      <td>0.0</td>\n      <td>0.0</td>\n      <td>0.0</td>\n      <td>0.0</td>\n    </tr>\n    <tr>\n      <th>...</th>\n      <td>...</td>\n      <td>...</td>\n      <td>...</td>\n      <td>...</td>\n      <td>...</td>\n      <td>...</td>\n      <td>...</td>\n      <td>...</td>\n      <td>...</td>\n      <td>...</td>\n      <td>...</td>\n      <td>...</td>\n      <td>...</td>\n      <td>...</td>\n      <td>...</td>\n      <td>...</td>\n      <td>...</td>\n      <td>...</td>\n      <td>...</td>\n      <td>...</td>\n      <td>...</td>\n    </tr>\n    <tr>\n      <th>4539</th>\n      <td>4539</td>\n      <td>NaN</td>\n      <td>NaN</td>\n      <td>NaN</td>\n      <td>NaN</td>\n      <td>NaN</td>\n      <td>NaN</td>\n      <td>NaN</td>\n      <td>NaN</td>\n      <td>NaN</td>\n      <td>...</td>\n      <td>NaN</td>\n      <td>NaN</td>\n      <td>NaN</td>\n      <td>NaN</td>\n      <td>NaN</td>\n      <td>NaN</td>\n      <td>NaN</td>\n      <td>NaN</td>\n      <td>NaN</td>\n      <td>NaN</td>\n    </tr>\n    <tr>\n      <th>4540</th>\n      <td>4540</td>\n      <td>NaN</td>\n      <td>NaN</td>\n      <td>NaN</td>\n      <td>NaN</td>\n      <td>NaN</td>\n      <td>NaN</td>\n      <td>NaN</td>\n      <td>NaN</td>\n      <td>NaN</td>\n      <td>...</td>\n      <td>NaN</td>\n      <td>NaN</td>\n      <td>NaN</td>\n      <td>NaN</td>\n      <td>NaN</td>\n      <td>NaN</td>\n      <td>NaN</td>\n      <td>NaN</td>\n      <td>NaN</td>\n      <td>NaN</td>\n    </tr>\n    <tr>\n      <th>4541</th>\n      <td>4541</td>\n      <td>NaN</td>\n      <td>NaN</td>\n      <td>NaN</td>\n      <td>NaN</td>\n      <td>NaN</td>\n      <td>NaN</td>\n      <td>NaN</td>\n      <td>NaN</td>\n      <td>NaN</td>\n      <td>...</td>\n      <td>NaN</td>\n      <td>NaN</td>\n      <td>NaN</td>\n      <td>NaN</td>\n      <td>NaN</td>\n      <td>NaN</td>\n      <td>NaN</td>\n      <td>NaN</td>\n      <td>NaN</td>\n      <td>NaN</td>\n    </tr>\n    <tr>\n      <th>4542</th>\n      <td>4542</td>\n      <td>NaN</td>\n      <td>NaN</td>\n      <td>NaN</td>\n      <td>NaN</td>\n      <td>NaN</td>\n      <td>NaN</td>\n      <td>NaN</td>\n      <td>NaN</td>\n      <td>NaN</td>\n      <td>...</td>\n      <td>NaN</td>\n      <td>NaN</td>\n      <td>NaN</td>\n      <td>NaN</td>\n      <td>NaN</td>\n      <td>NaN</td>\n      <td>NaN</td>\n      <td>NaN</td>\n      <td>NaN</td>\n      <td>NaN</td>\n    </tr>\n    <tr>\n      <th>4543</th>\n      <td>4543</td>\n      <td>NaN</td>\n      <td>NaN</td>\n      <td>NaN</td>\n      <td>NaN</td>\n      <td>NaN</td>\n      <td>NaN</td>\n      <td>NaN</td>\n      <td>NaN</td>\n      <td>NaN</td>\n      <td>...</td>\n      <td>NaN</td>\n      <td>NaN</td>\n      <td>NaN</td>\n      <td>NaN</td>\n      <td>NaN</td>\n      <td>NaN</td>\n      <td>NaN</td>\n      <td>NaN</td>\n      <td>NaN</td>\n      <td>NaN</td>\n    </tr>\n  </tbody>\n</table>\n<p>4544 rows × 795 columns</p>\n</div>"
     },
     "execution_count": 6,
     "metadata": {},
     "output_type": "execute_result"
    }
   ],
   "source": [
    "session_df = pd.DataFrame({'session' : range(0, df.groupby(['VHOST']).size().max())})\n",
    "for vhost in df[df.TOTAL_INTERACTIONS != 0]['VHOST'].unique():\n",
    "    session_df[vhost] = np.nan\n",
    "    temp_df = df[\n",
    "        (df.VHOST == vhost) &\n",
    "        (df.TURN_ID.notnull())\n",
    "    ].reset_index()\n",
    "    temp_df['SESSION_ID'] = np.nan\n",
    "    first_active = temp_df[temp_df.TOTAL_INTERACTIONS > 0].index[0]\n",
    "    temp_df.loc[temp_df[first_active:].index, 'SESSION_ID'] = range(0, len(temp_df) - first_active)\n",
    "    for id in temp_df[temp_df.SESSION_ID.notnull()]['SESSION_ID']:\n",
    "        session_df.loc[id, vhost] = min(temp_df[(temp_df.SESSION_ID == id)]['TOTAL_INTERACTIONS'].max(), 1)\n",
    "\n",
    "\n",
    "session_df"
   ],
   "metadata": {
    "collapsed": false,
    "pycharm": {
     "name": "#%%\n"
    }
   }
  },
  {
   "cell_type": "code",
   "execution_count": 7,
   "outputs": [
    {
     "data": {
      "text/plain": "<Figure size 432x288 with 2 Axes>",
      "image/png": "[encoded data removed]"
     },
     "metadata": {},
     "output_type": "display_data"
    }
   ],
   "source": [
    "obs = 100\n",
    "observations_df = session_df\n",
    "cnt_occupancies = observations_df.iloc[:,1:].count(axis=1)[:obs]\n",
    "avg_rentention = observations_df.iloc[:,1:].mean(axis=1)[:obs]\n",
    "\n",
    "fig, ax1 = plt.subplots()\n",
    "color = 'tab:blue'\n",
    "text_color = 'white'\n",
    "ax1.set_xlabel('nth occupancy after first meaningful turn board interaction', color=text_color)\n",
    "ax1.set_ylabel('avg retention', color=text_color)\n",
    "ax1.plot(avg_rentention, color=color)\n",
    "ax1.tick_params(axis='y', labelcolor=text_color)\n",
    "ax1.tick_params(axis='x', labelcolor=text_color)\n",
    "\n",
    "ax2 = ax1.twinx()\n",
    "\n",
    "color = 'tab:orange'\n",
    "ax2.set_ylabel('occupancies', color=text_color)\n",
    "ax2.plot(cnt_occupancies, color=color)\n",
    "ax2.tick_params(axis='y', labelcolor=text_color)\n",
    "\n",
    "fig.tight_layout()\n",
    "plt.show()"
   ],
   "metadata": {
    "collapsed": false,
    "pycharm": {
     "name": "#%%\n"
    }
   }
  },
  {
   "cell_type": "code",
   "execution_count": 49,
   "outputs": [
    {
     "data": {
      "text/plain": "0.33929478180619166"
     },
     "execution_count": 49,
     "metadata": {},
     "output_type": "execute_result"
    }
   ],
   "source": [
    "# session_df.isin(\n",
    "session_df[\n",
    "    session_df.loc[:, session_df.sum() > 10].columns.tolist()\n",
    "].iloc[:,1:].mean(axis=1)[:100].mean()\n",
    "# )"
   ],
   "metadata": {
    "collapsed": false,
    "pycharm": {
     "name": "#%%\n"
    }
   }
  },
  {
   "cell_type": "code",
   "execution_count": 8,
   "outputs": [
    {
     "data": {
      "text/plain": "0.7315545190570912"
     },
     "execution_count": 8,
     "metadata": {},
     "output_type": "execute_result"
    }
   ],
   "source": [
    "highly_engaged_VHOSTS = df[df.LAST_UPDATED_AT > '2021-05-24'].groupby('VHOST').sum()['TOTAL_INTERACTIONS']\n",
    "target_VHOSTS = highly_engaged_VHOSTS[highly_engaged_VHOSTS > 10].index.tolist()\n",
    "df[df.VHOST.isin(target_VHOSTS)].TOTAL_INTERACTIONS.mean()"
   ],
   "metadata": {
    "collapsed": false,
    "pycharm": {
     "name": "#%%\n"
    }
   }
  },
  {
   "cell_type": "code",
   "execution_count": 73,
   "outputs": [
    {
     "data": {
      "text/plain": "['acornpm',\n 'adastra',\n 'adea',\n 'ahi',\n 'ahrealtyadvisors',\n 'alexanderforrest',\n 'alisarealty',\n 'alliahmanagementllc',\n 'alliancegroup',\n 'alliancepropertymgmt',\n 'alliedpacprop',\n 'alpinepropmgmt',\n 'archerinvestment',\n 'arnotrealtycorporation',\n 'ascendpropmgmt',\n 'associaonline',\n 'asuperior',\n 'atmgroup',\n 'babinskiproperties',\n 'bartgrayrealty',\n 'basco',\n 'baymgmtgroup',\n 'bayshoreproperties',\n 'bcrg',\n 'belcross',\n 'bendermanagement',\n 'bensonmgmt',\n 'bergerbriggs',\n 'birgo',\n 'bkmgmt',\n 'bluesky',\n 'bmgphilly',\n 'brandywinehomes',\n 'brcrealestate',\n 'bridgesmn',\n 'bridgeviewpropertymanagement',\n 'butlerpropertycompany',\n 'buyersre',\n 'bwrealestate',\n 'callahan',\n 'calson',\n 'calwestam',\n 'cambridgemgi',\n 'capitalpropertymgmt',\n 'castlewoodtownhomes',\n 'centerpointepm',\n 'chamberlain',\n 'chinowth',\n 'classicpm',\n 'coastlineequity',\n 'coleman',\n 'columbiapropertymanagementllc',\n 'constellation',\n 'copperbay',\n 'countryside',\n 'cowherdconstruction',\n 'curator',\n 'dailymanagement',\n 'daymark',\n 'ddrentalsmgmt',\n 'dedesrentals',\n 'delraypm',\n 'duerksenandassociates',\n 'eliteyorkpa',\n 'enclavecompanies',\n 'encoremgmt',\n 'engelspm',\n 'engproperties',\n 'fairlawn',\n 'fallermgt',\n 'firsteastern',\n 'fox',\n 'gantzgroupllc',\n 'gcr',\n 'gcremn',\n 'gillfamilyproperties',\n 'goldengatepm',\n 'gpgrent',\n 'granitesl',\n 'grmg',\n 'gtiproperties',\n 'harlamert',\n 'harmoniqresidential',\n 'hasbrouck',\n 'hayloftpropmgmt',\n 'hcsinvestments',\n 'henderson',\n 'highpointmgmt',\n 'homelrealty',\n 'homesteadpropertymgmt',\n 'horizonsassetmgmt',\n 'hoseitmanagement',\n 'icarusinvestment',\n 'integrityinvst',\n 'integrityoklahoma',\n 'integrityppm',\n 'investment',\n 'investmentrolla',\n 'investorsmgmt',\n 'investprop',\n 'investwest',\n 'jaasopm',\n 'jamesmgt',\n 'jensenproperties',\n 'jevonsproperty',\n 'jkrealty',\n 'jmpmg',\n 'jomela',\n 'junghansagency',\n 'katzakian',\n 'kdrrealty',\n 'keyps',\n 'khp',\n 'kmk',\n 'legacymgmt',\n 'lichiinvestments',\n 'lighthousepm',\n 'marathon',\n 'marketstreet',\n 'marshallreddick',\n 'mastengroup',\n 'mavenpropertiesnw',\n 'mcmpropertymanagement',\n 'mcnallymgmt',\n 'meridiapm',\n 'metastoneprprties',\n 'metco',\n 'mg2group',\n 'mgtworks',\n 'midfloridarealestate',\n 'milestonepropertymgmt',\n 'millcreekmgt',\n 'millhouseproperties',\n 'minnixpm',\n 'mjmproperties',\n 'monemcorp',\n 'mountaincreekproperties',\n 'mountainnplains',\n 'myoppm',\n 'nationwide',\n 'nesspropertymanagement',\n 'newlinjohnsonco',\n 'nieblerproperties',\n 'northfloridaps',\n 'northoakprop',\n 'northwest',\n 'northwoods',\n 'npdodge',\n 'nuvu',\n 'oakwoodmgmt',\n 'oneilenterprises',\n 'onestoppm',\n 'opmindy',\n 'orangepropertymgmt',\n 'paladinodevgroup',\n 'parkside',\n 'pembrokerealestate',\n 'pentaurus',\n 'personalpm',\n 'pillarrei',\n 'pivotre',\n 'platinumpropmgmt',\n 'powerpropertygroup',\n 'premierpropertiesllc',\n 'premierres',\n 'primasrentals',\n 'proactiveri',\n 'propertiescsa',\n 'propertymanagementnw',\n 'proresidential',\n 'provest',\n 'providian',\n 'proximitypm',\n 'rampartpm',\n 'realestassociates',\n 'reederproperties',\n 'rema',\n 'remsinc',\n 'rentalpros318',\n 'rentqc',\n 'rentthelbk',\n 'resortpropertymanagement',\n 'rhinopropertymanagement',\n 'rhinorealty',\n 'ridgetopapts',\n 'rohcs',\n 'rpmca019',\n 'rpmid006',\n 'rpmsd001',\n 'rueschmgmt',\n 'santerealty',\n 'selectpropertymanagement',\n 'sermar',\n 'shamrockpm',\n 'sharpproperty',\n 'sierramerge',\n 'sigpm',\n 'situsgroup',\n 'sixstarproperties',\n 'skypm',\n 'smiproperty',\n 'spauldinggroup',\n 'stallard',\n 'statewideenterprises',\n 'stoneridgemp',\n 'strategicholdings',\n 'sullivanproperty',\n 'summitrez',\n 'sunwestprops',\n 'sustainrealty',\n 'tallgrass',\n 'taylorenterprises',\n 'tcmanagement',\n 'teamidaho',\n 'themendescompany',\n 'threelestate',\n 'tmgoregon',\n 'tninvestmentsgroup',\n 'touropmllc',\n 'trionprop',\n 'universitycottages',\n 'utopiamanagement',\n 'valleyincomeprop',\n 'vegashomes4rent',\n 'verdei',\n 'victoriasprop',\n 'vphmanagement',\n 'wandrrentals',\n 'watsonmanagement',\n 'waveproperties',\n 'westshoreproperty',\n 'whitworth',\n 'whm',\n 'windermerek2',\n 'wolfeandassociates',\n 'wrents',\n 'xcdrealtyandpm',\n 'youngamericarealty']"
     },
     "execution_count": 73,
     "metadata": {},
     "output_type": "execute_result"
    }
   ],
   "source": [
    "target_VHOSTS"
   ],
   "metadata": {
    "collapsed": false,
    "pycharm": {
     "name": "#%%\n"
    }
   }
  },
  {
   "cell_type": "code",
   "execution_count": 20,
   "outputs": [
    {
     "data": {
      "text/plain": "(381,)"
     },
     "execution_count": 20,
     "metadata": {},
     "output_type": "execute_result"
    }
   ],
   "source": [
    "# highly_engaged_VHOSTS.VHOST.unique()\n",
    "highly_engaged_VHOSTS = df[df.LAST_UPDATED_AT > '2021-05-24'].groupby('VHOST').sum()['TOTAL_INTERACTIONS']\n",
    "target_VHOSTS = highly_engaged_VHOSTS[highly_engaged_VHOSTS > 3].index.tolist()\n",
    "df[df.VHOST.isin(target_VHOSTS)].VHOST.unique().shape\n"
   ],
   "metadata": {
    "collapsed": false,
    "pycharm": {
     "name": "#%%\n"
    }
   }
  },
  {
   "cell_type": "code",
   "execution_count": null,
   "outputs": [],
   "source": [],
   "metadata": {
    "collapsed": false,
    "pycharm": {
     "name": "#%%\n"
    }
   }
  }
 ],
 "metadata": {
  "kernelspec": {
   "display_name": "Python 3",
   "language": "python",
   "name": "python3"
  },
  "language_info": {
   "codemirror_mode": {
    "name": "ipython",
    "version": 2
   },
   "file_extension": ".py",
   "mimetype": "text/x-python",
   "name": "python",
   "nbconvert_exporter": "python",
   "pygments_lexer": "ipython2",
   "version": "2.7.6"
  }
 },
 "nbformat": 4,
 "nbformat_minor": 0
}